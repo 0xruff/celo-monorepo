{
 "cells": [
  {
   "cell_type": "code",
   "execution_count": 1,
   "metadata": {},
   "outputs": [],
   "source": [
    "from datetime import date\n",
    "from enum import Enum\n",
    "\n",
    "%load_ext google.cloud.bigquery\n",
    "from google.cloud import bigquery\n",
    "\n",
    "import pandas as pd\n",
    "import numpy as np"
   ]
  },
  {
   "cell_type": "code",
   "execution_count": 2,
   "metadata": {},
   "outputs": [
    {
     "name": "stdout",
     "output_type": "stream",
     "text": [
      "dataflow_metrics\n",
      "load_test_data\n",
      "segment_data\n",
      "segment_data_events\n",
      "segment_data_metrics\n",
      "tme_test_stakeoff\n",
      "transaction_data\n",
      "transaction_metrics_exporter\n"
     ]
    }
   ],
   "source": [
    "project = \"celo-testnet\"\n",
    "client = bigquery.Client(project)\n",
    "for dataset in client.list_datasets():\n",
    "    print(dataset.dataset_id)"
   ]
  },
  {
   "cell_type": "code",
   "execution_count": 3,
   "metadata": {},
   "outputs": [
    {
     "name": "stdout",
     "output_type": "stream",
     "text": [
      "celo-testnet.tme_test_stakeoff.tme_stakeoff_test_20200323\n"
     ]
    }
   ],
   "source": [
    "partition = date.today().strftime(\"%Y%m%d\")\n",
    "# partition = 20200316\n",
    "# partition = \"*\"\n",
    "dataset = \"transaction_metrics_exporter\"\n",
    "table = \"transaction_metrics_exporter_{0}\".format(partition)\n",
    "tme = client.get_dataset(dataset)\n",
    "table_path = \".\".join([project, dataset, table])\n",
    "table_path = \"celo-testnet.tme_test_stakeoff.tme_stakeoff_test_20200323\"\n",
    "print(table_path)"
   ]
  },
  {
   "cell_type": "code",
   "execution_count": 4,
   "metadata": {},
   "outputs": [],
   "source": [
    "class EventTypes(Enum):\n",
    "    RECEIVED_BLOCK=\"RECEIVED_BLOCK\"\n",
    "    RECEIVED_STATE=\"RECEIVED_STATE\"\n",
    "    RECEIVED_TRANSACTION=\"RECEIVED_TRANSACTION\"\n",
    "    RECEIVED_TRANSACTION_RECEIPT=\"RECEIVED_TRANSACTION_RECEIPT\"\n",
    "    RECEIVED_PARSED_TRANSACTION=\"RECEIVED_PARSED_TRANSACTION\"\n",
    "    RECEIVED_PARSED_LOG=\"RECEIVED_PARSED_LOG\""
   ]
  },
  {
   "cell_type": "code",
   "execution_count": 5,
   "metadata": {},
   "outputs": [
    {
     "data": {
      "text/html": [
       "<div>\n",
       "<style scoped>\n",
       "    .dataframe tbody tr th:only-of-type {\n",
       "        vertical-align: middle;\n",
       "    }\n",
       "\n",
       "    .dataframe tbody tr th {\n",
       "        vertical-align: top;\n",
       "    }\n",
       "\n",
       "    .dataframe thead th {\n",
       "        text-align: right;\n",
       "    }\n",
       "</style>\n",
       "<table border=\"1\" class=\"dataframe\">\n",
       "  <thead>\n",
       "    <tr style=\"text-align: right;\">\n",
       "      <th></th>\n",
       "      <th>timestamp</th>\n",
       "      <th>blockNumber</th>\n",
       "      <th>gasUsed</th>\n",
       "      <th>gasLimit</th>\n",
       "      <th>txAmount</th>\n",
       "      <th>blocktime</th>\n",
       "    </tr>\n",
       "  </thead>\n",
       "  <tbody>\n",
       "    <tr>\n",
       "      <th>count</th>\n",
       "      <td>1.757700e+04</td>\n",
       "      <td>17577.000000</td>\n",
       "      <td>1.757700e+04</td>\n",
       "      <td>17577.0</td>\n",
       "      <td>17577.000000</td>\n",
       "      <td>17576.000000</td>\n",
       "    </tr>\n",
       "    <tr>\n",
       "      <th>mean</th>\n",
       "      <td>1.579632e+09</td>\n",
       "      <td>185874.630540</td>\n",
       "      <td>5.406806e+04</td>\n",
       "      <td>20000000.0</td>\n",
       "      <td>1.095352</td>\n",
       "      <td>237.849283</td>\n",
       "    </tr>\n",
       "    <tr>\n",
       "      <th>std</th>\n",
       "      <td>1.256356e+06</td>\n",
       "      <td>249556.918505</td>\n",
       "      <td>1.812114e+05</td>\n",
       "      <td>0.0</td>\n",
       "      <td>0.709524</td>\n",
       "      <td>525.825536</td>\n",
       "    </tr>\n",
       "    <tr>\n",
       "      <th>min</th>\n",
       "      <td>1.578698e+09</td>\n",
       "      <td>500.000000</td>\n",
       "      <td>0.000000e+00</td>\n",
       "      <td>20000000.0</td>\n",
       "      <td>1.000000</td>\n",
       "      <td>5.000000</td>\n",
       "    </tr>\n",
       "    <tr>\n",
       "      <th>25%</th>\n",
       "      <td>1.578768e+09</td>\n",
       "      <td>14347.000000</td>\n",
       "      <td>0.000000e+00</td>\n",
       "      <td>20000000.0</td>\n",
       "      <td>1.000000</td>\n",
       "      <td>5.000000</td>\n",
       "    </tr>\n",
       "    <tr>\n",
       "      <th>50%</th>\n",
       "      <td>1.578790e+09</td>\n",
       "      <td>18741.000000</td>\n",
       "      <td>0.000000e+00</td>\n",
       "      <td>20000000.0</td>\n",
       "      <td>1.000000</td>\n",
       "      <td>5.000000</td>\n",
       "    </tr>\n",
       "    <tr>\n",
       "      <th>75%</th>\n",
       "      <td>1.580412e+09</td>\n",
       "      <td>340600.000000</td>\n",
       "      <td>0.000000e+00</td>\n",
       "      <td>20000000.0</td>\n",
       "      <td>1.000000</td>\n",
       "      <td>500.000000</td>\n",
       "    </tr>\n",
       "    <tr>\n",
       "      <th>max</th>\n",
       "      <td>1.582878e+09</td>\n",
       "      <td>822500.000000</td>\n",
       "      <td>1.095853e+07</td>\n",
       "      <td>20000000.0</td>\n",
       "      <td>14.000000</td>\n",
       "      <td>48283.000000</td>\n",
       "    </tr>\n",
       "  </tbody>\n",
       "</table>\n",
       "</div>"
      ],
      "text/plain": [
       "          timestamp    blockNumber       gasUsed    gasLimit      txAmount  \\\n",
       "count  1.757700e+04   17577.000000  1.757700e+04     17577.0  17577.000000   \n",
       "mean   1.579632e+09  185874.630540  5.406806e+04  20000000.0      1.095352   \n",
       "std    1.256356e+06  249556.918505  1.812114e+05         0.0      0.709524   \n",
       "min    1.578698e+09     500.000000  0.000000e+00  20000000.0      1.000000   \n",
       "25%    1.578768e+09   14347.000000  0.000000e+00  20000000.0      1.000000   \n",
       "50%    1.578790e+09   18741.000000  0.000000e+00  20000000.0      1.000000   \n",
       "75%    1.580412e+09  340600.000000  0.000000e+00  20000000.0      1.000000   \n",
       "max    1.582878e+09  822500.000000  1.095853e+07  20000000.0     14.000000   \n",
       "\n",
       "          blocktime  \n",
       "count  17576.000000  \n",
       "mean     237.849283  \n",
       "std      525.825536  \n",
       "min        5.000000  \n",
       "25%        5.000000  \n",
       "50%        5.000000  \n",
       "75%      500.000000  \n",
       "max    48283.000000  "
      ]
     },
     "execution_count": 5,
     "metadata": {},
     "output_type": "execute_result"
    }
   ],
   "source": [
    "query_blocks = f\"\"\"\n",
    "SELECT \n",
    "  MAX(T.jsonPayload.timestamp) as timestamp,\n",
    "  T.jsonPayload.number as blockNumber,\n",
    "  MAX(T.jsonPayload.gasUsed) as gasUsed,\n",
    "  MAX(T.jsonPayload.gasLimit) as gasLimit,\n",
    "  COUNT(T.jsonPayload.transactions) as txAmount\n",
    "FROM \n",
    "  `{table_path}` as T\n",
    "WHERE\n",
    "   T.jsonPayload.event='{EventTypes.RECEIVED_BLOCK.value}'\n",
    "GROUP BY blockNumber\n",
    "ORDER BY blockNumber DESC \n",
    "\"\"\"\n",
    "\n",
    "df_blocks = client.query(\n",
    "    query_blocks, \n",
    "    job_config=bigquery.QueryJobConfig(\n",
    "        query_parameters=[]\n",
    "    )\n",
    ").to_dataframe()\n",
    "\n",
    "df_blocks['blocktime'] = df_blocks[::-1].diff(axis=0).timestamp\n",
    "\n",
    "df_blocks.describe()"
   ]
  },
  {
   "cell_type": "code",
   "execution_count": 6,
   "metadata": {},
   "outputs": [
    {
     "data": {
      "text/html": [
       "<div>\n",
       "<style scoped>\n",
       "    .dataframe tbody tr th:only-of-type {\n",
       "        vertical-align: middle;\n",
       "    }\n",
       "\n",
       "    .dataframe tbody tr th {\n",
       "        vertical-align: top;\n",
       "    }\n",
       "\n",
       "    .dataframe thead th {\n",
       "        text-align: right;\n",
       "    }\n",
       "</style>\n",
       "<table border=\"1\" class=\"dataframe\">\n",
       "  <thead>\n",
       "    <tr style=\"text-align: right;\">\n",
       "      <th></th>\n",
       "      <th>timestamp</th>\n",
       "      <th>blockNumber</th>\n",
       "      <th>gasUsed</th>\n",
       "      <th>gasLimit</th>\n",
       "      <th>txAmount</th>\n",
       "      <th>blocktime</th>\n",
       "    </tr>\n",
       "  </thead>\n",
       "  <tbody>\n",
       "    <tr>\n",
       "      <th>0</th>\n",
       "      <td>1.582878e+09</td>\n",
       "      <td>822500.0</td>\n",
       "      <td>375081.0</td>\n",
       "      <td>20000000.0</td>\n",
       "      <td>1</td>\n",
       "      <td>1641.0</td>\n",
       "    </tr>\n",
       "    <tr>\n",
       "      <th>1</th>\n",
       "      <td>1.582877e+09</td>\n",
       "      <td>822400.0</td>\n",
       "      <td>208426.0</td>\n",
       "      <td>20000000.0</td>\n",
       "      <td>1</td>\n",
       "      <td>1664.0</td>\n",
       "    </tr>\n",
       "    <tr>\n",
       "      <th>2</th>\n",
       "      <td>1.582875e+09</td>\n",
       "      <td>822300.0</td>\n",
       "      <td>108726.0</td>\n",
       "      <td>20000000.0</td>\n",
       "      <td>1</td>\n",
       "      <td>1787.0</td>\n",
       "    </tr>\n",
       "    <tr>\n",
       "      <th>3</th>\n",
       "      <td>1.582873e+09</td>\n",
       "      <td>822200.0</td>\n",
       "      <td>177222.0</td>\n",
       "      <td>20000000.0</td>\n",
       "      <td>1</td>\n",
       "      <td>1072.0</td>\n",
       "    </tr>\n",
       "    <tr>\n",
       "      <th>4</th>\n",
       "      <td>1.582872e+09</td>\n",
       "      <td>822100.0</td>\n",
       "      <td>91069.0</td>\n",
       "      <td>20000000.0</td>\n",
       "      <td>1</td>\n",
       "      <td>1110.0</td>\n",
       "    </tr>\n",
       "  </tbody>\n",
       "</table>\n",
       "</div>"
      ],
      "text/plain": [
       "      timestamp  blockNumber   gasUsed    gasLimit  txAmount  blocktime\n",
       "0  1.582878e+09     822500.0  375081.0  20000000.0         1     1641.0\n",
       "1  1.582877e+09     822400.0  208426.0  20000000.0         1     1664.0\n",
       "2  1.582875e+09     822300.0  108726.0  20000000.0         1     1787.0\n",
       "3  1.582873e+09     822200.0  177222.0  20000000.0         1     1072.0\n",
       "4  1.582872e+09     822100.0   91069.0  20000000.0         1     1110.0"
      ]
     },
     "execution_count": 6,
     "metadata": {},
     "output_type": "execute_result"
    }
   ],
   "source": [
    "df_blocks.head()"
   ]
  },
  {
   "cell_type": "code",
   "execution_count": 7,
   "metadata": {},
   "outputs": [
    {
     "name": "stdout",
     "output_type": "stream",
     "text": [
      "last block  : 822500 on 1582878345.0\n",
      "first block : 500 on 1578697906.0\n",
      "blocks load : 17577\n",
      "transactions: 19253\n",
      "mean gasUsed: 54068 GcWei\n",
      "mean blocktime: 238 s\n"
     ]
    },
    {
     "data": {
      "image/png": "[encoded data removed]",
      "text/plain": [
       "<Figure size 432x288 with 1 Axes>"
      ]
     },
     "metadata": {
      "needs_background": "light"
     },
     "output_type": "display_data"
    }
   ],
   "source": [
    "last_block, first_block = df_blocks.blockNumber.max(), df_blocks.blockNumber.min()\n",
    "print(f\"last block  : {last_block:.0f} on {df_blocks.timestamp.max()}\") \n",
    "print(f\"first block : {first_block:.0f} on {df_blocks.timestamp.min()}\")\n",
    "print(f\"blocks load : {df_blocks.timestamp.count():.0f}\")\n",
    "print(f\"transactions: {df_blocks.txAmount.sum()}\")\n",
    "print(f\"mean gasUsed: {df_blocks.gasUsed.mean():.0f} GcWei\")\n",
    "df_blocks.blocktime.plot.hist(logy=True)\n",
    "print(f\"mean blocktime: {df_blocks.blocktime.mean():.0f} s\")"
   ]
  },
  {
   "cell_type": "code",
   "execution_count": 8,
   "metadata": {},
   "outputs": [
    {
     "data": {
      "text/html": [
       "<div>\n",
       "<style scoped>\n",
       "    .dataframe tbody tr th:only-of-type {\n",
       "        vertical-align: middle;\n",
       "    }\n",
       "\n",
       "    .dataframe tbody tr th {\n",
       "        vertical-align: top;\n",
       "    }\n",
       "\n",
       "    .dataframe thead th {\n",
       "        text-align: right;\n",
       "    }\n",
       "</style>\n",
       "<table border=\"1\" class=\"dataframe\">\n",
       "  <thead>\n",
       "    <tr style=\"text-align: right;\">\n",
       "      <th></th>\n",
       "      <th>blockNumber</th>\n",
       "      <th>rewardsamount</th>\n",
       "      <th>rewardsmultiplier</th>\n",
       "      <th>medianRate</th>\n",
       "      <th>currentStableBucket</th>\n",
       "      <th>currentGoldBucket</th>\n",
       "      <th>goldTokenTotalSupply</th>\n",
       "    </tr>\n",
       "  </thead>\n",
       "  <tbody>\n",
       "    <tr>\n",
       "      <th>count</th>\n",
       "      <td>96316.000000</td>\n",
       "      <td>1.925500e+04</td>\n",
       "      <td>1.926100e+04</td>\n",
       "      <td>19264.000000</td>\n",
       "      <td>1.927100e+04</td>\n",
       "      <td>1.927100e+04</td>\n",
       "      <td>1.926500e+04</td>\n",
       "    </tr>\n",
       "    <tr>\n",
       "      <th>mean</th>\n",
       "      <td>173152.476951</td>\n",
       "      <td>6.003676e+26</td>\n",
       "      <td>1.609782e+24</td>\n",
       "      <td>6.261635</td>\n",
       "      <td>6.263274e+24</td>\n",
       "      <td>9.975318e+23</td>\n",
       "      <td>1.129691e+26</td>\n",
       "    </tr>\n",
       "    <tr>\n",
       "      <th>std</th>\n",
       "      <td>242087.211679</td>\n",
       "      <td>5.151971e+23</td>\n",
       "      <td>1.224152e+22</td>\n",
       "      <td>4.435080</td>\n",
       "      <td>4.432272e+24</td>\n",
       "      <td>7.018841e+21</td>\n",
       "      <td>1.087346e+25</td>\n",
       "    </tr>\n",
       "    <tr>\n",
       "      <th>min</th>\n",
       "      <td>500.000000</td>\n",
       "      <td>6.000000e+26</td>\n",
       "      <td>1.569455e+24</td>\n",
       "      <td>0.995000</td>\n",
       "      <td>9.868052e+23</td>\n",
       "      <td>8.558890e+23</td>\n",
       "      <td>1.069011e+26</td>\n",
       "    </tr>\n",
       "    <tr>\n",
       "      <th>25%</th>\n",
       "      <td>14117.000000</td>\n",
       "      <td>6.000292e+26</td>\n",
       "      <td>1.608876e+24</td>\n",
       "      <td>1.000000</td>\n",
       "      <td>1.000659e+24</td>\n",
       "      <td>9.983047e+23</td>\n",
       "      <td>1.069011e+26</td>\n",
       "    </tr>\n",
       "    <tr>\n",
       "      <th>50%</th>\n",
       "      <td>18886.000000</td>\n",
       "      <td>6.000393e+26</td>\n",
       "      <td>1.616437e+24</td>\n",
       "      <td>10.000000</td>\n",
       "      <td>9.995200e+24</td>\n",
       "      <td>9.995200e+23</td>\n",
       "      <td>1.069011e+26</td>\n",
       "    </tr>\n",
       "    <tr>\n",
       "      <th>75%</th>\n",
       "      <td>295125.000000</td>\n",
       "      <td>6.006270e+26</td>\n",
       "      <td>1.616465e+24</td>\n",
       "      <td>10.000000</td>\n",
       "      <td>9.995200e+24</td>\n",
       "      <td>9.995200e+23</td>\n",
       "      <td>1.142698e+26</td>\n",
       "    </tr>\n",
       "    <tr>\n",
       "      <th>max</th>\n",
       "      <td>822500.000000</td>\n",
       "      <td>6.017675e+26</td>\n",
       "      <td>1.616726e+24</td>\n",
       "      <td>10.000000</td>\n",
       "      <td>1.000000e+25</td>\n",
       "      <td>1.002487e+24</td>\n",
       "      <td>1.481719e+26</td>\n",
       "    </tr>\n",
       "  </tbody>\n",
       "</table>\n",
       "</div>"
      ],
      "text/plain": [
       "         blockNumber  rewardsamount  rewardsmultiplier    medianRate  \\\n",
       "count   96316.000000   1.925500e+04       1.926100e+04  19264.000000   \n",
       "mean   173152.476951   6.003676e+26       1.609782e+24      6.261635   \n",
       "std    242087.211679   5.151971e+23       1.224152e+22      4.435080   \n",
       "min       500.000000   6.000000e+26       1.569455e+24      0.995000   \n",
       "25%     14117.000000   6.000292e+26       1.608876e+24      1.000000   \n",
       "50%     18886.000000   6.000393e+26       1.616437e+24     10.000000   \n",
       "75%    295125.000000   6.006270e+26       1.616465e+24     10.000000   \n",
       "max    822500.000000   6.017675e+26       1.616726e+24     10.000000   \n",
       "\n",
       "       currentStableBucket  currentGoldBucket  goldTokenTotalSupply  \n",
       "count         1.927100e+04       1.927100e+04          1.926500e+04  \n",
       "mean          6.263274e+24       9.975318e+23          1.129691e+26  \n",
       "std           4.432272e+24       7.018841e+21          1.087346e+25  \n",
       "min           9.868052e+23       8.558890e+23          1.069011e+26  \n",
       "25%           1.000659e+24       9.983047e+23          1.069011e+26  \n",
       "50%           9.995200e+24       9.995200e+23          1.069011e+26  \n",
       "75%           9.995200e+24       9.995200e+23          1.142698e+26  \n",
       "max           1.000000e+25       1.002487e+24          1.481719e+26  "
      ]
     },
     "execution_count": 8,
     "metadata": {},
     "output_type": "execute_result"
    }
   ],
   "source": [
    "query_state = f\"\"\"\n",
    "SELECT\n",
    "  timestamp,\n",
    "  jsonPayload.blockNumber,\n",
    "  jsonPayload.values.rewardsamount,\n",
    "  jsonPayload.values.rewardsmultiplier,\n",
    "  jsonPayload.values.medianRate,\n",
    "  jsonPayload.values.currentStableBucket,\n",
    "  jsonPayload.values.currentGoldBucket,\n",
    "  jsonPayload.values.goldTokenTotalSupply\n",
    "FROM \n",
    "  `{table_path}` as T\n",
    "WHERE \n",
    "  jsonPayload.event='{EventTypes.RECEIVED_STATE.value}'\n",
    "ORDER BY \n",
    "  T.jsonPayload.blockNumber DESC,\n",
    "  T.timestamp DESC\n",
    "\"\"\"\n",
    "\n",
    "df_state = client.query(\n",
    "    query_state, \n",
    "    job_config=bigquery.QueryJobConfig(\n",
    "        query_parameters=[]\n",
    "    )\n",
    ").to_dataframe()\n",
    "\n",
    "df_state.describe()"
   ]
  },
  {
   "cell_type": "code",
   "execution_count": 9,
   "metadata": {},
   "outputs": [
    {
     "data": {
      "text/html": [
       "<div>\n",
       "<style scoped>\n",
       "    .dataframe tbody tr th:only-of-type {\n",
       "        vertical-align: middle;\n",
       "    }\n",
       "\n",
       "    .dataframe tbody tr th {\n",
       "        vertical-align: top;\n",
       "    }\n",
       "\n",
       "    .dataframe thead th {\n",
       "        text-align: right;\n",
       "    }\n",
       "</style>\n",
       "<table border=\"1\" class=\"dataframe\">\n",
       "  <thead>\n",
       "    <tr style=\"text-align: right;\">\n",
       "      <th></th>\n",
       "      <th>blockNumber</th>\n",
       "      <th>timestamp_tme</th>\n",
       "      <th>rewardsamount</th>\n",
       "      <th>rewardsmultiplier</th>\n",
       "      <th>medianRate</th>\n",
       "      <th>currentStableBucket</th>\n",
       "      <th>currentGoldBucket</th>\n",
       "      <th>goldTokenTotalSupply</th>\n",
       "      <th>timestamp_block</th>\n",
       "      <th>gasUsed</th>\n",
       "      <th>gasLimit</th>\n",
       "      <th>txAmount</th>\n",
       "      <th>blocktime</th>\n",
       "      <th>datetime_block</th>\n",
       "    </tr>\n",
       "  </thead>\n",
       "  <tbody>\n",
       "    <tr>\n",
       "      <th>17557</th>\n",
       "      <td>822100.0</td>\n",
       "      <td>2020-03-23 16:58:31.006895+00:00</td>\n",
       "      <td>6.017649e+26</td>\n",
       "      <td>1.569503e+24</td>\n",
       "      <td>1.004</td>\n",
       "      <td>9.908442e+23</td>\n",
       "      <td>9.868966e+23</td>\n",
       "      <td>1.481309e+26</td>\n",
       "      <td>1.582872e+09</td>\n",
       "      <td>91069.0</td>\n",
       "      <td>20000000.0</td>\n",
       "      <td>1</td>\n",
       "      <td>1110.0</td>\n",
       "      <td>2020-02-28 06:43:01</td>\n",
       "    </tr>\n",
       "    <tr>\n",
       "      <th>17558</th>\n",
       "      <td>822200.0</td>\n",
       "      <td>2020-03-23 16:58:31.447293+00:00</td>\n",
       "      <td>6.017653e+26</td>\n",
       "      <td>1.569504e+24</td>\n",
       "      <td>1.004</td>\n",
       "      <td>9.908442e+23</td>\n",
       "      <td>9.868966e+23</td>\n",
       "      <td>1.481309e+26</td>\n",
       "      <td>1.582873e+09</td>\n",
       "      <td>177222.0</td>\n",
       "      <td>20000000.0</td>\n",
       "      <td>1</td>\n",
       "      <td>1072.0</td>\n",
       "      <td>2020-02-28 07:00:53</td>\n",
       "    </tr>\n",
       "    <tr>\n",
       "      <th>17559</th>\n",
       "      <td>822300.0</td>\n",
       "      <td>2020-03-23 16:58:32.036633+00:00</td>\n",
       "      <td>6.017661e+26</td>\n",
       "      <td>1.569455e+24</td>\n",
       "      <td>1.005</td>\n",
       "      <td>9.919736e+23</td>\n",
       "      <td>9.870384e+23</td>\n",
       "      <td>1.481719e+26</td>\n",
       "      <td>1.582875e+09</td>\n",
       "      <td>108726.0</td>\n",
       "      <td>20000000.0</td>\n",
       "      <td>1</td>\n",
       "      <td>1787.0</td>\n",
       "      <td>2020-02-28 07:30:40</td>\n",
       "    </tr>\n",
       "    <tr>\n",
       "      <th>17560</th>\n",
       "      <td>822400.0</td>\n",
       "      <td>2020-03-23 16:58:32.626364+00:00</td>\n",
       "      <td>6.017668e+26</td>\n",
       "      <td>1.569456e+24</td>\n",
       "      <td>1.004</td>\n",
       "      <td>9.922852e+23</td>\n",
       "      <td>9.867094e+23</td>\n",
       "      <td>1.481719e+26</td>\n",
       "      <td>1.582877e+09</td>\n",
       "      <td>208426.0</td>\n",
       "      <td>20000000.0</td>\n",
       "      <td>1</td>\n",
       "      <td>1664.0</td>\n",
       "      <td>2020-02-28 07:58:24</td>\n",
       "    </tr>\n",
       "    <tr>\n",
       "      <th>17561</th>\n",
       "      <td>822500.0</td>\n",
       "      <td>2020-03-23 16:58:33.364458+00:00</td>\n",
       "      <td>6.017675e+26</td>\n",
       "      <td>1.569458e+24</td>\n",
       "      <td>1.005</td>\n",
       "      <td>9.909564e+23</td>\n",
       "      <td>9.870084e+23</td>\n",
       "      <td>1.481719e+26</td>\n",
       "      <td>1.582878e+09</td>\n",
       "      <td>375081.0</td>\n",
       "      <td>20000000.0</td>\n",
       "      <td>1</td>\n",
       "      <td>1641.0</td>\n",
       "      <td>2020-02-28 08:25:45</td>\n",
       "    </tr>\n",
       "  </tbody>\n",
       "</table>\n",
       "</div>"
      ],
      "text/plain": [
       "       blockNumber                    timestamp_tme  rewardsamount  \\\n",
       "17557     822100.0 2020-03-23 16:58:31.006895+00:00   6.017649e+26   \n",
       "17558     822200.0 2020-03-23 16:58:31.447293+00:00   6.017653e+26   \n",
       "17559     822300.0 2020-03-23 16:58:32.036633+00:00   6.017661e+26   \n",
       "17560     822400.0 2020-03-23 16:58:32.626364+00:00   6.017668e+26   \n",
       "17561     822500.0 2020-03-23 16:58:33.364458+00:00   6.017675e+26   \n",
       "\n",
       "       rewardsmultiplier  medianRate  currentStableBucket  currentGoldBucket  \\\n",
       "17557       1.569503e+24       1.004         9.908442e+23       9.868966e+23   \n",
       "17558       1.569504e+24       1.004         9.908442e+23       9.868966e+23   \n",
       "17559       1.569455e+24       1.005         9.919736e+23       9.870384e+23   \n",
       "17560       1.569456e+24       1.004         9.922852e+23       9.867094e+23   \n",
       "17561       1.569458e+24       1.005         9.909564e+23       9.870084e+23   \n",
       "\n",
       "       goldTokenTotalSupply  timestamp_block   gasUsed    gasLimit  txAmount  \\\n",
       "17557          1.481309e+26     1.582872e+09   91069.0  20000000.0         1   \n",
       "17558          1.481309e+26     1.582873e+09  177222.0  20000000.0         1   \n",
       "17559          1.481719e+26     1.582875e+09  108726.0  20000000.0         1   \n",
       "17560          1.481719e+26     1.582877e+09  208426.0  20000000.0         1   \n",
       "17561          1.481719e+26     1.582878e+09  375081.0  20000000.0         1   \n",
       "\n",
       "       blocktime      datetime_block  \n",
       "17557     1110.0 2020-02-28 06:43:01  \n",
       "17558     1072.0 2020-02-28 07:00:53  \n",
       "17559     1787.0 2020-02-28 07:30:40  \n",
       "17560     1664.0 2020-02-28 07:58:24  \n",
       "17561     1641.0 2020-02-28 08:25:45  "
      ]
     },
     "execution_count": 9,
     "metadata": {},
     "output_type": "execute_result"
    }
   ],
   "source": [
    "df = df_state \\\n",
    "    .groupby('blockNumber').max() \\\n",
    "    .merge(df_blocks, left_on='blockNumber', right_on='blockNumber', suffixes=('_tme', '_block'))\n",
    "df['datetime_block'] = pd.to_datetime(df['timestamp_block'],unit='s')\n",
    "df.tail()"
   ]
  },
  {
   "cell_type": "code",
   "execution_count": 10,
   "metadata": {},
   "outputs": [
    {
     "data": {
      "text/plain": [
       "Text(0, 0.5, 'SortedOracles.medianRate')"
      ]
     },
     "execution_count": 10,
     "metadata": {},
     "output_type": "execute_result"
    },
    {
     "data": {
      "image/png": "[encoded data removed]",
      "text/plain": [
       "<Figure size 1152x360 with 1 Axes>"
      ]
     },
     "metadata": {
      "needs_background": "light"
     },
     "output_type": "display_data"
    }
   ],
   "source": [
    "import matplotlib.pyplot as plt\n",
    "plt.rcParams['figure.figsize'] = [16, 5]\n",
    "df_sortedOracles = df.set_index('datetime_block')['medianRate']\n",
    "ax = df_sortedOracles.plot()\n",
    "ax.set_ylabel(\"SortedOracles.medianRate\")"
   ]
  },
  {
   "cell_type": "code",
   "execution_count": 11,
   "metadata": {},
   "outputs": [
    {
     "data": {
      "image/png": "[encoded data removed]",
      "text/plain": [
       "<Figure size 1152x360 with 1 Axes>"
      ]
     },
     "metadata": {
      "needs_background": "light"
     },
     "output_type": "display_data"
    },
    {
     "data": {
      "image/png": "[encoded data removed]",
      "text/plain": [
       "<Figure size 1152x360 with 1 Axes>"
      ]
     },
     "metadata": {
      "needs_background": "light"
     },
     "output_type": "display_data"
    },
    {
     "data": {
      "image/png": "[encoded data removed]",
      "text/plain": [
       "<Figure size 1152x360 with 1 Axes>"
      ]
     },
     "metadata": {
      "needs_background": "light"
     },
     "output_type": "display_data"
    }
   ],
   "source": [
    "df_stableToken = df.set_index('datetime_block')[['currentStableBucket']].astype('float')\n",
    "df_stableToken.plot(marker='o')\n",
    "df_stableToken = df.set_index('datetime_block')[['currentGoldBucket']].astype('float')\n",
    "df_stableToken.plot(marker='o')\n",
    "df_goldToken = df.set_index('datetime_block')[['goldTokenTotalSupply']]\n",
    "ax = df_goldToken.plot()"
   ]
  },
  {
   "cell_type": "code",
   "execution_count": 12,
   "metadata": {},
   "outputs": [
    {
     "data": {
      "image/png": "[encoded data removed]",
      "text/plain": [
       "<Figure size 1152x360 with 1 Axes>"
      ]
     },
     "metadata": {
      "needs_background": "light"
     },
     "output_type": "display_data"
    },
    {
     "data": {
      "image/png": "[encoded data removed]",
      "text/plain": [
       "<Figure size 1152x360 with 1 Axes>"
      ]
     },
     "metadata": {
      "needs_background": "light"
     },
     "output_type": "display_data"
    }
   ],
   "source": [
    "df_rewardsAmount = df.set_index('datetime_block')[['rewardsamount']]\n",
    "ax = df_rewardsAmount.plot()\n",
    "df_rewardsMultiplier = df.set_index('datetime_block')[['rewardsmultiplier']]\n",
    "ax = df_rewardsMultiplier.plot()"
   ]
  },
  {
   "cell_type": "code",
   "execution_count": null,
   "metadata": {},
   "outputs": [],
   "source": []
  }
 ],
 "metadata": {
  "kernelspec": {
   "display_name": "Python 3",
   "language": "python",
   "name": "python3"
  },
  "language_info": {
   "codemirror_mode": {
    "name": "ipython",
    "version": 3
   },
   "file_extension": ".py",
   "mimetype": "text/x-python",
   "name": "python",
   "nbconvert_exporter": "python",
   "pygments_lexer": "ipython3",
   "version": "3.7.5"
  }
 },
 "nbformat": 4,
 "nbformat_minor": 4
}
