{
 "cells": [
  {
   "cell_type": "code",
   "execution_count": 1,
   "metadata": {},
   "outputs": [],
   "source": [
    "from datetime import date\n",
    "from enum import Enum\n",
    "\n",
    "%load_ext google.cloud.bigquery\n",
    "from google.cloud import bigquery\n"
   ]
  },
  {
   "cell_type": "code",
   "execution_count": 2,
   "metadata": {},
   "outputs": [
    {
     "name": "stdout",
     "output_type": "stream",
     "text": [
      "dataflow_metrics\n",
      "load_test_data\n",
      "segment_data\n",
      "segment_data_events\n",
      "segment_data_metrics\n",
      "transaction_data\n",
      "transaction_metrics_exporter\n"
     ]
    }
   ],
   "source": [
    "project = \"celo-testnet\"\n",
    "client = bigquery.Client(project)\n",
    "for dataset in client.list_datasets():\n",
    "    print(dataset.dataset_id)"
   ]
  },
  {
   "cell_type": "code",
   "execution_count": 3,
   "metadata": {},
   "outputs": [
    {
     "name": "stdout",
     "output_type": "stream",
     "text": [
      "celo-testnet.transaction_metrics_exporter.transaction_metrics_exporter_20200319\n"
     ]
    }
   ],
   "source": [
    "partition = date.today().strftime(\"%Y%m%d\")\n",
    "# partition = 20200316\n",
    "# partition = \"*\"\n",
    "dataset = \"transaction_metrics_exporter\"\n",
    "table = \"transaction_metrics_exporter_{0}\".format(partition)\n",
    "tme = client.get_dataset(dataset)\n",
    "table_path = \".\".join([project, dataset, table])\n",
    "print(table_path)"
   ]
  },
  {
   "cell_type": "code",
   "execution_count": 4,
   "metadata": {},
   "outputs": [],
   "source": [
    "class EventTypes(Enum):\n",
    "    RECEIVED_BLOCK=\"RECEIVED_BLOCK\"\n",
    "    RECEIVED_STATE=\"RECEIVED_STATE\"\n",
    "    RECEIVED_TRANSACTION=\"RECEIVED_TRANSACTION\"\n",
    "    RECEIVED_TRANSACTION_RECEIPT=\"RECEIVED_TRANSACTION_RECEIPT\"\n",
    "    RECEIVED_PARSED_TRANSACTION=\"RECEIVED_PARSED_TRANSACTION\"\n",
    "    RECEIVED_PARSED_LOG=\"RECEIVED_PARSED_LOG\""
   ]
  },
  {
   "cell_type": "code",
   "execution_count": 24,
   "metadata": {},
   "outputs": [
    {
     "data": {
      "text/html": [
       "<div>\n",
       "<style scoped>\n",
       "    .dataframe tbody tr th:only-of-type {\n",
       "        vertical-align: middle;\n",
       "    }\n",
       "\n",
       "    .dataframe tbody tr th {\n",
       "        vertical-align: top;\n",
       "    }\n",
       "\n",
       "    .dataframe thead th {\n",
       "        text-align: right;\n",
       "    }\n",
       "</style>\n",
       "<table border=\"1\" class=\"dataframe\">\n",
       "  <thead>\n",
       "    <tr style=\"text-align: right;\">\n",
       "      <th></th>\n",
       "      <th>blockNumber</th>\n",
       "      <th>gasUsed</th>\n",
       "      <th>gasLimit</th>\n",
       "      <th>txAmount</th>\n",
       "    </tr>\n",
       "  </thead>\n",
       "  <tbody>\n",
       "    <tr>\n",
       "      <th>count</th>\n",
       "      <td>1.054000e+03</td>\n",
       "      <td>1054.000000</td>\n",
       "      <td>1054.0</td>\n",
       "      <td>1054.000000</td>\n",
       "    </tr>\n",
       "    <tr>\n",
       "      <th>mean</th>\n",
       "      <td>1.140604e+06</td>\n",
       "      <td>96833.778937</td>\n",
       "      <td>20000000.0</td>\n",
       "      <td>1.880455</td>\n",
       "    </tr>\n",
       "    <tr>\n",
       "      <th>std</th>\n",
       "      <td>3.226522e+02</td>\n",
       "      <td>61945.801996</td>\n",
       "      <td>0.0</td>\n",
       "      <td>0.330382</td>\n",
       "    </tr>\n",
       "    <tr>\n",
       "      <th>min</th>\n",
       "      <td>1.140041e+06</td>\n",
       "      <td>29363.000000</td>\n",
       "      <td>20000000.0</td>\n",
       "      <td>1.000000</td>\n",
       "    </tr>\n",
       "    <tr>\n",
       "      <th>25%</th>\n",
       "      <td>1.140327e+06</td>\n",
       "      <td>41069.000000</td>\n",
       "      <td>20000000.0</td>\n",
       "      <td>2.000000</td>\n",
       "    </tr>\n",
       "    <tr>\n",
       "      <th>50%</th>\n",
       "      <td>1.140602e+06</td>\n",
       "      <td>82138.000000</td>\n",
       "      <td>20000000.0</td>\n",
       "      <td>2.000000</td>\n",
       "    </tr>\n",
       "    <tr>\n",
       "      <th>75%</th>\n",
       "      <td>1.140883e+06</td>\n",
       "      <td>120432.000000</td>\n",
       "      <td>20000000.0</td>\n",
       "      <td>2.000000</td>\n",
       "    </tr>\n",
       "    <tr>\n",
       "      <th>max</th>\n",
       "      <td>1.141157e+06</td>\n",
       "      <td>528953.000000</td>\n",
       "      <td>20000000.0</td>\n",
       "      <td>3.000000</td>\n",
       "    </tr>\n",
       "  </tbody>\n",
       "</table>\n",
       "</div>"
      ],
      "text/plain": [
       "        blockNumber        gasUsed    gasLimit     txAmount\n",
       "count  1.054000e+03    1054.000000      1054.0  1054.000000\n",
       "mean   1.140604e+06   96833.778937  20000000.0     1.880455\n",
       "std    3.226522e+02   61945.801996         0.0     0.330382\n",
       "min    1.140041e+06   29363.000000  20000000.0     1.000000\n",
       "25%    1.140327e+06   41069.000000  20000000.0     2.000000\n",
       "50%    1.140602e+06   82138.000000  20000000.0     2.000000\n",
       "75%    1.140883e+06  120432.000000  20000000.0     2.000000\n",
       "max    1.141157e+06  528953.000000  20000000.0     3.000000"
      ]
     },
     "execution_count": 24,
     "metadata": {},
     "output_type": "execute_result"
    }
   ],
   "source": [
    "query_blocks = f\"\"\"\n",
    "SELECT \n",
    "  MAX(T.timestamp) as timestamp,\n",
    "  T.jsonPayload.number as blockNumber,\n",
    "  MAX(T.jsonPayload.gasUsed) as gasUsed,\n",
    "  MAX(T.jsonPayload.gasLimit) as gasLimit,\n",
    "  COUNT(T.jsonPayload.transactions) as txAmount\n",
    "FROM \n",
    "  `{table_path}` as T\n",
    "WHERE\n",
    "    T.jsonPayload.number > 1140040\n",
    "  AND T.jsonPayload.event='{EventTypes.RECEIVED_BLOCK.value}'\n",
    "GROUP BY blockNumber\n",
    "ORDER BY blockNumber DESC \n",
    "\"\"\"\n",
    "\n",
    "df_blocks = client.query(\n",
    "    query_blocks, \n",
    "    job_config=bigquery.QueryJobConfig(\n",
    "        query_parameters=[]\n",
    "    )\n",
    ").to_dataframe()\n",
    "\n",
    "df_blocks.describe()"
   ]
  },
  {
   "cell_type": "code",
   "execution_count": 25,
   "metadata": {},
   "outputs": [
    {
     "data": {
      "text/html": [
       "<div>\n",
       "<style scoped>\n",
       "    .dataframe tbody tr th:only-of-type {\n",
       "        vertical-align: middle;\n",
       "    }\n",
       "\n",
       "    .dataframe tbody tr th {\n",
       "        vertical-align: top;\n",
       "    }\n",
       "\n",
       "    .dataframe thead th {\n",
       "        text-align: right;\n",
       "    }\n",
       "</style>\n",
       "<table border=\"1\" class=\"dataframe\">\n",
       "  <thead>\n",
       "    <tr style=\"text-align: right;\">\n",
       "      <th></th>\n",
       "      <th>timestamp</th>\n",
       "      <th>blockNumber</th>\n",
       "      <th>gasUsed</th>\n",
       "      <th>gasLimit</th>\n",
       "      <th>txAmount</th>\n",
       "    </tr>\n",
       "  </thead>\n",
       "  <tbody>\n",
       "    <tr>\n",
       "      <th>0</th>\n",
       "      <td>2020-03-19 13:46:35.201118+00:00</td>\n",
       "      <td>1141157.0</td>\n",
       "      <td>120432.0</td>\n",
       "      <td>20000000.0</td>\n",
       "      <td>1</td>\n",
       "    </tr>\n",
       "    <tr>\n",
       "      <th>1</th>\n",
       "      <td>2020-03-19 13:46:19.588890+00:00</td>\n",
       "      <td>1141156.0</td>\n",
       "      <td>41069.0</td>\n",
       "      <td>20000000.0</td>\n",
       "      <td>1</td>\n",
       "    </tr>\n",
       "    <tr>\n",
       "      <th>2</th>\n",
       "      <td>2020-03-19 13:46:14.595601+00:00</td>\n",
       "      <td>1141155.0</td>\n",
       "      <td>79363.0</td>\n",
       "      <td>20000000.0</td>\n",
       "      <td>1</td>\n",
       "    </tr>\n",
       "    <tr>\n",
       "      <th>3</th>\n",
       "      <td>2020-03-19 13:46:09.584363+00:00</td>\n",
       "      <td>1141154.0</td>\n",
       "      <td>108726.0</td>\n",
       "      <td>20000000.0</td>\n",
       "      <td>1</td>\n",
       "    </tr>\n",
       "    <tr>\n",
       "      <th>4</th>\n",
       "      <td>2020-03-19 13:46:04.620721+00:00</td>\n",
       "      <td>1141153.0</td>\n",
       "      <td>79363.0</td>\n",
       "      <td>20000000.0</td>\n",
       "      <td>1</td>\n",
       "    </tr>\n",
       "  </tbody>\n",
       "</table>\n",
       "</div>"
      ],
      "text/plain": [
       "                         timestamp  blockNumber   gasUsed    gasLimit  \\\n",
       "0 2020-03-19 13:46:35.201118+00:00    1141157.0  120432.0  20000000.0   \n",
       "1 2020-03-19 13:46:19.588890+00:00    1141156.0   41069.0  20000000.0   \n",
       "2 2020-03-19 13:46:14.595601+00:00    1141155.0   79363.0  20000000.0   \n",
       "3 2020-03-19 13:46:09.584363+00:00    1141154.0  108726.0  20000000.0   \n",
       "4 2020-03-19 13:46:04.620721+00:00    1141153.0   79363.0  20000000.0   \n",
       "\n",
       "   txAmount  \n",
       "0         1  \n",
       "1         1  \n",
       "2         1  \n",
       "3         1  \n",
       "4         1  "
      ]
     },
     "execution_count": 25,
     "metadata": {},
     "output_type": "execute_result"
    }
   ],
   "source": [
    "df_blocks.head()"
   ]
  },
  {
   "cell_type": "code",
   "execution_count": 36,
   "metadata": {},
   "outputs": [
    {
     "name": "stdout",
     "output_type": "stream",
     "text": [
      "last block  : 1141157 on 2020-03-19 13:46:35.201118+00:00\n",
      "first block : 1140041 on 2020-03-19 11:57:47.612751+00:00\n",
      "blocks load : 1116\n",
      "transactions: 1982\n",
      "mean gasUsed: 96834 GcWei\n"
     ]
    }
   ],
   "source": [
    "last_block, first_block = df_blocks.blockNumber.max(), df_blocks.blockNumber.min()\n",
    "print(f\"last block  : {last_block:.0f} on {df_blocks.timestamp.max()}\") \n",
    "print(f\"first block : {first_block:.0f} on {df_blocks.timestamp.min()}\")\n",
    "print(f\"blocks load : {(last_block - first_block):.0f}\")\n",
    "print(f\"transactions: {df_blocks.txAmount.sum()}\")\n",
    "print(f\"mean gasUsed: {df_blocks.gasUsed.mean():.0f} GcWei\")"
   ]
  },
  {
   "cell_type": "code",
   "execution_count": 41,
   "metadata": {},
   "outputs": [
    {
     "data": {
      "text/html": [
       "<div>\n",
       "<style scoped>\n",
       "    .dataframe tbody tr th:only-of-type {\n",
       "        vertical-align: middle;\n",
       "    }\n",
       "\n",
       "    .dataframe tbody tr th {\n",
       "        vertical-align: top;\n",
       "    }\n",
       "\n",
       "    .dataframe thead th {\n",
       "        text-align: right;\n",
       "    }\n",
       "</style>\n",
       "<table border=\"1\" class=\"dataframe\">\n",
       "  <thead>\n",
       "    <tr style=\"text-align: right;\">\n",
       "      <th></th>\n",
       "      <th>blockNumber</th>\n",
       "      <th>rewardsamount</th>\n",
       "      <th>rewardsmultiplier</th>\n",
       "      <th>medianRate</th>\n",
       "      <th>goldTokenTotalSupply</th>\n",
       "    </tr>\n",
       "  </thead>\n",
       "  <tbody>\n",
       "    <tr>\n",
       "      <th>count</th>\n",
       "      <td>6.080000e+02</td>\n",
       "      <td>1.520000e+02</td>\n",
       "      <td>1.520000e+02</td>\n",
       "      <td>1.520000e+02</td>\n",
       "      <td>1.520000e+02</td>\n",
       "    </tr>\n",
       "    <tr>\n",
       "      <th>mean</th>\n",
       "      <td>1.141118e+06</td>\n",
       "      <td>6.025406e+26</td>\n",
       "      <td>1.477610e+24</td>\n",
       "      <td>1.003000e+00</td>\n",
       "      <td>2.228659e+26</td>\n",
       "    </tr>\n",
       "    <tr>\n",
       "      <th>std</th>\n",
       "      <td>4.503780e+01</td>\n",
       "      <td>1.100176e+20</td>\n",
       "      <td>2.706045e+17</td>\n",
       "      <td>2.227786e-16</td>\n",
       "      <td>6.894665e+10</td>\n",
       "    </tr>\n",
       "    <tr>\n",
       "      <th>min</th>\n",
       "      <td>1.141041e+06</td>\n",
       "      <td>6.025404e+26</td>\n",
       "      <td>1.477610e+24</td>\n",
       "      <td>1.003000e+00</td>\n",
       "      <td>2.228659e+26</td>\n",
       "    </tr>\n",
       "    <tr>\n",
       "      <th>25%</th>\n",
       "      <td>1.141079e+06</td>\n",
       "      <td>6.025405e+26</td>\n",
       "      <td>1.477610e+24</td>\n",
       "      <td>1.003000e+00</td>\n",
       "      <td>2.228659e+26</td>\n",
       "    </tr>\n",
       "    <tr>\n",
       "      <th>50%</th>\n",
       "      <td>1.141118e+06</td>\n",
       "      <td>6.025406e+26</td>\n",
       "      <td>1.477610e+24</td>\n",
       "      <td>1.003000e+00</td>\n",
       "      <td>2.228659e+26</td>\n",
       "    </tr>\n",
       "    <tr>\n",
       "      <th>75%</th>\n",
       "      <td>1.141156e+06</td>\n",
       "      <td>6.025407e+26</td>\n",
       "      <td>1.477610e+24</td>\n",
       "      <td>1.003000e+00</td>\n",
       "      <td>2.228659e+26</td>\n",
       "    </tr>\n",
       "    <tr>\n",
       "      <th>max</th>\n",
       "      <td>1.141197e+06</td>\n",
       "      <td>6.025408e+26</td>\n",
       "      <td>1.477610e+24</td>\n",
       "      <td>1.003000e+00</td>\n",
       "      <td>2.228659e+26</td>\n",
       "    </tr>\n",
       "  </tbody>\n",
       "</table>\n",
       "</div>"
      ],
      "text/plain": [
       "        blockNumber  rewardsamount  rewardsmultiplier    medianRate  \\\n",
       "count  6.080000e+02   1.520000e+02       1.520000e+02  1.520000e+02   \n",
       "mean   1.141118e+06   6.025406e+26       1.477610e+24  1.003000e+00   \n",
       "std    4.503780e+01   1.100176e+20       2.706045e+17  2.227786e-16   \n",
       "min    1.141041e+06   6.025404e+26       1.477610e+24  1.003000e+00   \n",
       "25%    1.141079e+06   6.025405e+26       1.477610e+24  1.003000e+00   \n",
       "50%    1.141118e+06   6.025406e+26       1.477610e+24  1.003000e+00   \n",
       "75%    1.141156e+06   6.025407e+26       1.477610e+24  1.003000e+00   \n",
       "max    1.141197e+06   6.025408e+26       1.477610e+24  1.003000e+00   \n",
       "\n",
       "       goldTokenTotalSupply  \n",
       "count          1.520000e+02  \n",
       "mean           2.228659e+26  \n",
       "std            6.894665e+10  \n",
       "min            2.228659e+26  \n",
       "25%            2.228659e+26  \n",
       "50%            2.228659e+26  \n",
       "75%            2.228659e+26  \n",
       "max            2.228659e+26  "
      ]
     },
     "execution_count": 41,
     "metadata": {},
     "output_type": "execute_result"
    }
   ],
   "source": [
    "query_state = f\"\"\"\n",
    "SELECT\n",
    "  timestamp,\n",
    "  jsonPayload.blockNumber,\n",
    "  jsonPayload.contract,\n",
    "  jsonPayload.function,\n",
    "  jsonPayload.values.rewardsamount,\n",
    "  jsonPayload.values.rewardsmultiplier,\n",
    "  jsonPayload.values.medianRate,\n",
    "  jsonPayload.values.currentStableBucket,\n",
    "  jsonPayload.values.currentGoldBucket,\n",
    "  jsonPayload.values.goldTokenTotalSupply\n",
    "FROM \n",
    "  `{table_path}` as T\n",
    "WHERE \n",
    "  jsonPayload.blockNumber > 1141040\n",
    "  AND jsonPayload.event='{EventTypes.RECEIVED_STATE.value}'\n",
    "ORDER BY \n",
    "  T.jsonPayload.blockNumber DESC,\n",
    "  T.timestamp DESC\n",
    "\"\"\"\n",
    "\n",
    "df_state = client.query(\n",
    "    query_state, \n",
    "    job_config=bigquery.QueryJobConfig(\n",
    "        query_parameters=[]\n",
    "    )\n",
    ").to_dataframe()\n",
    "\n",
    "df_state.describe()"
   ]
  },
  {
   "cell_type": "code",
   "execution_count": 38,
   "metadata": {},
   "outputs": [
    {
     "data": {
      "text/html": [
       "<div>\n",
       "<style scoped>\n",
       "    .dataframe tbody tr th:only-of-type {\n",
       "        vertical-align: middle;\n",
       "    }\n",
       "\n",
       "    .dataframe tbody tr th {\n",
       "        vertical-align: top;\n",
       "    }\n",
       "\n",
       "    .dataframe thead th {\n",
       "        text-align: right;\n",
       "    }\n",
       "</style>\n",
       "<table border=\"1\" class=\"dataframe\">\n",
       "  <thead>\n",
       "    <tr style=\"text-align: right;\">\n",
       "      <th></th>\n",
       "      <th>timestamp</th>\n",
       "      <th>blockNumber</th>\n",
       "      <th>contract</th>\n",
       "      <th>function</th>\n",
       "      <th>rewardsamount</th>\n",
       "      <th>rewardsmultiplier</th>\n",
       "      <th>medianRate</th>\n",
       "      <th>currentStableBucket</th>\n",
       "      <th>currentGoldBucket</th>\n",
       "      <th>goldTokenTotalSupply</th>\n",
       "    </tr>\n",
       "  </thead>\n",
       "  <tbody>\n",
       "    <tr>\n",
       "      <th>587</th>\n",
       "      <td>2020-03-19 13:35:33.579264+00:00</td>\n",
       "      <td>1141042.0</td>\n",
       "      <td>GoldToken</td>\n",
       "      <td>totalSupply</td>\n",
       "      <td>NaN</td>\n",
       "      <td>NaN</td>\n",
       "      <td>NaN</td>\n",
       "      <td>None</td>\n",
       "      <td>None</td>\n",
       "      <td>2.228659e+26</td>\n",
       "    </tr>\n",
       "    <tr>\n",
       "      <th>588</th>\n",
       "      <td>2020-03-19 13:35:29.361901+00:00</td>\n",
       "      <td>1141041.0</td>\n",
       "      <td>SortedOracles</td>\n",
       "      <td>medianRate</td>\n",
       "      <td>NaN</td>\n",
       "      <td>NaN</td>\n",
       "      <td>1.003</td>\n",
       "      <td>None</td>\n",
       "      <td>None</td>\n",
       "      <td>NaN</td>\n",
       "    </tr>\n",
       "    <tr>\n",
       "      <th>589</th>\n",
       "      <td>2020-03-19 13:35:29.355040+00:00</td>\n",
       "      <td>1141041.0</td>\n",
       "      <td>EpochRewards</td>\n",
       "      <td>getTargetGoldTotalSupply</td>\n",
       "      <td>6.025404e+26</td>\n",
       "      <td>NaN</td>\n",
       "      <td>NaN</td>\n",
       "      <td>None</td>\n",
       "      <td>None</td>\n",
       "      <td>NaN</td>\n",
       "    </tr>\n",
       "    <tr>\n",
       "      <th>590</th>\n",
       "      <td>2020-03-19 13:35:29.351367+00:00</td>\n",
       "      <td>1141041.0</td>\n",
       "      <td>EpochRewards</td>\n",
       "      <td>getRewardsMultiplier</td>\n",
       "      <td>NaN</td>\n",
       "      <td>1.477610e+24</td>\n",
       "      <td>NaN</td>\n",
       "      <td>None</td>\n",
       "      <td>None</td>\n",
       "      <td>NaN</td>\n",
       "    </tr>\n",
       "    <tr>\n",
       "      <th>591</th>\n",
       "      <td>2020-03-19 13:35:29.350724+00:00</td>\n",
       "      <td>1141041.0</td>\n",
       "      <td>GoldToken</td>\n",
       "      <td>totalSupply</td>\n",
       "      <td>NaN</td>\n",
       "      <td>NaN</td>\n",
       "      <td>NaN</td>\n",
       "      <td>None</td>\n",
       "      <td>None</td>\n",
       "      <td>2.228659e+26</td>\n",
       "    </tr>\n",
       "  </tbody>\n",
       "</table>\n",
       "</div>"
      ],
      "text/plain": [
       "                           timestamp  blockNumber       contract  \\\n",
       "587 2020-03-19 13:35:33.579264+00:00    1141042.0      GoldToken   \n",
       "588 2020-03-19 13:35:29.361901+00:00    1141041.0  SortedOracles   \n",
       "589 2020-03-19 13:35:29.355040+00:00    1141041.0   EpochRewards   \n",
       "590 2020-03-19 13:35:29.351367+00:00    1141041.0   EpochRewards   \n",
       "591 2020-03-19 13:35:29.350724+00:00    1141041.0      GoldToken   \n",
       "\n",
       "                     function  rewardsamount  rewardsmultiplier  medianRate  \\\n",
       "587               totalSupply            NaN                NaN         NaN   \n",
       "588                medianRate            NaN                NaN       1.003   \n",
       "589  getTargetGoldTotalSupply   6.025404e+26                NaN         NaN   \n",
       "590      getRewardsMultiplier            NaN       1.477610e+24         NaN   \n",
       "591               totalSupply            NaN                NaN         NaN   \n",
       "\n",
       "    currentStableBucket currentGoldBucket  goldTokenTotalSupply  \n",
       "587                None              None          2.228659e+26  \n",
       "588                None              None                   NaN  \n",
       "589                None              None                   NaN  \n",
       "590                None              None                   NaN  \n",
       "591                None              None          2.228659e+26  "
      ]
     },
     "execution_count": 38,
     "metadata": {},
     "output_type": "execute_result"
    }
   ],
   "source": [
    "df_state.head()\n",
    "df_state.tail()"
   ]
  },
  {
   "cell_type": "code",
   "execution_count": 39,
   "metadata": {},
   "outputs": [
    {
     "data": {
      "text/plain": [
       "Text(0, 0.5, 'SortedOracles.medianRate')"
      ]
     },
     "execution_count": 39,
     "metadata": {},
     "output_type": "execute_result"
    },
    {
     "data": {
      "image/png": "[encoded data removed]",
      "text/plain": [
       "<Figure size 432x288 with 1 Axes>"
      ]
     },
     "metadata": {
      "needs_background": "light"
     },
     "output_type": "display_data"
    }
   ],
   "source": [
    "df_sortedOracles = df_state.set_index('timestamp')['medianRate'].dropna()\n",
    "ax = df_sortedOracles.plot()\n",
    "ax.set_xlabel(\"timestamp\")\n",
    "ax.set_ylabel(\"SortedOracles.medianRate\")"
   ]
  },
  {
   "cell_type": "code",
   "execution_count": 40,
   "metadata": {},
   "outputs": [
    {
     "ename": "TypeError",
     "evalue": "no numeric data to plot",
     "output_type": "error",
     "traceback": [
      "\u001b[0;31m---------------------------------------------------------------------------\u001b[0m",
      "\u001b[0;31mTypeError\u001b[0m                                 Traceback (most recent call last)",
      "\u001b[0;32m<ipython-input-40-442b26912857>\u001b[0m in \u001b[0;36m<module>\u001b[0;34m\u001b[0m\n\u001b[1;32m      1\u001b[0m \u001b[0mdf_stableToken\u001b[0m \u001b[0;34m=\u001b[0m \u001b[0mdf_state\u001b[0m\u001b[0;34m.\u001b[0m\u001b[0mset_index\u001b[0m\u001b[0;34m(\u001b[0m\u001b[0;34m'timestamp'\u001b[0m\u001b[0;34m)\u001b[0m\u001b[0;34m[\u001b[0m\u001b[0;34m[\u001b[0m\u001b[0;34m'currentStableBucket'\u001b[0m\u001b[0;34m,\u001b[0m\u001b[0;34m'currentGoldBucket'\u001b[0m\u001b[0;34m]\u001b[0m\u001b[0;34m]\u001b[0m\u001b[0;34m.\u001b[0m\u001b[0mdropna\u001b[0m\u001b[0;34m(\u001b[0m\u001b[0;34m)\u001b[0m\u001b[0;34m\u001b[0m\u001b[0;34m\u001b[0m\u001b[0m\n\u001b[0;32m----> 2\u001b[0;31m \u001b[0max\u001b[0m \u001b[0;34m=\u001b[0m \u001b[0mdf_stableToken\u001b[0m\u001b[0;34m.\u001b[0m\u001b[0mplot\u001b[0m\u001b[0;34m(\u001b[0m\u001b[0;34m)\u001b[0m\u001b[0;34m\u001b[0m\u001b[0;34m\u001b[0m\u001b[0m\n\u001b[0m\u001b[1;32m      3\u001b[0m \u001b[0max\u001b[0m\u001b[0;34m.\u001b[0m\u001b[0mset_xlabel\u001b[0m\u001b[0;34m(\u001b[0m\u001b[0;34m\"timestamp\"\u001b[0m\u001b[0;34m)\u001b[0m\u001b[0;34m\u001b[0m\u001b[0;34m\u001b[0m\u001b[0m\n",
      "\u001b[0;32m~/celo/celo-monorepo/packages/transaction-metrics-exporter/venv/lib/python3.7/site-packages/pandas/plotting/_core.py\u001b[0m in \u001b[0;36m__call__\u001b[0;34m(self, *args, **kwargs)\u001b[0m\n\u001b[1;32m    845\u001b[0m                     \u001b[0mdata\u001b[0m\u001b[0;34m.\u001b[0m\u001b[0mcolumns\u001b[0m \u001b[0;34m=\u001b[0m \u001b[0mlabel_name\u001b[0m\u001b[0;34m\u001b[0m\u001b[0;34m\u001b[0m\u001b[0m\n\u001b[1;32m    846\u001b[0m \u001b[0;34m\u001b[0m\u001b[0m\n\u001b[0;32m--> 847\u001b[0;31m         \u001b[0;32mreturn\u001b[0m \u001b[0mplot_backend\u001b[0m\u001b[0;34m.\u001b[0m\u001b[0mplot\u001b[0m\u001b[0;34m(\u001b[0m\u001b[0mdata\u001b[0m\u001b[0;34m,\u001b[0m \u001b[0mkind\u001b[0m\u001b[0;34m=\u001b[0m\u001b[0mkind\u001b[0m\u001b[0;34m,\u001b[0m \u001b[0;34m**\u001b[0m\u001b[0mkwargs\u001b[0m\u001b[0;34m)\u001b[0m\u001b[0;34m\u001b[0m\u001b[0;34m\u001b[0m\u001b[0m\n\u001b[0m\u001b[1;32m    848\u001b[0m \u001b[0;34m\u001b[0m\u001b[0m\n\u001b[1;32m    849\u001b[0m     \u001b[0m__call__\u001b[0m\u001b[0;34m.\u001b[0m\u001b[0m__doc__\u001b[0m \u001b[0;34m=\u001b[0m \u001b[0m__doc__\u001b[0m\u001b[0;34m\u001b[0m\u001b[0;34m\u001b[0m\u001b[0m\n",
      "\u001b[0;32m~/celo/celo-monorepo/packages/transaction-metrics-exporter/venv/lib/python3.7/site-packages/pandas/plotting/_matplotlib/__init__.py\u001b[0m in \u001b[0;36mplot\u001b[0;34m(data, kind, **kwargs)\u001b[0m\n\u001b[1;32m     59\u001b[0m             \u001b[0mkwargs\u001b[0m\u001b[0;34m[\u001b[0m\u001b[0;34m\"ax\"\u001b[0m\u001b[0;34m]\u001b[0m \u001b[0;34m=\u001b[0m \u001b[0mgetattr\u001b[0m\u001b[0;34m(\u001b[0m\u001b[0max\u001b[0m\u001b[0;34m,\u001b[0m \u001b[0;34m\"left_ax\"\u001b[0m\u001b[0;34m,\u001b[0m \u001b[0max\u001b[0m\u001b[0;34m)\u001b[0m\u001b[0;34m\u001b[0m\u001b[0;34m\u001b[0m\u001b[0m\n\u001b[1;32m     60\u001b[0m     \u001b[0mplot_obj\u001b[0m \u001b[0;34m=\u001b[0m \u001b[0mPLOT_CLASSES\u001b[0m\u001b[0;34m[\u001b[0m\u001b[0mkind\u001b[0m\u001b[0;34m]\u001b[0m\u001b[0;34m(\u001b[0m\u001b[0mdata\u001b[0m\u001b[0;34m,\u001b[0m \u001b[0;34m**\u001b[0m\u001b[0mkwargs\u001b[0m\u001b[0;34m)\u001b[0m\u001b[0;34m\u001b[0m\u001b[0;34m\u001b[0m\u001b[0m\n\u001b[0;32m---> 61\u001b[0;31m     \u001b[0mplot_obj\u001b[0m\u001b[0;34m.\u001b[0m\u001b[0mgenerate\u001b[0m\u001b[0;34m(\u001b[0m\u001b[0;34m)\u001b[0m\u001b[0;34m\u001b[0m\u001b[0;34m\u001b[0m\u001b[0m\n\u001b[0m\u001b[1;32m     62\u001b[0m     \u001b[0mplot_obj\u001b[0m\u001b[0;34m.\u001b[0m\u001b[0mdraw\u001b[0m\u001b[0;34m(\u001b[0m\u001b[0;34m)\u001b[0m\u001b[0;34m\u001b[0m\u001b[0;34m\u001b[0m\u001b[0m\n\u001b[1;32m     63\u001b[0m     \u001b[0;32mreturn\u001b[0m \u001b[0mplot_obj\u001b[0m\u001b[0;34m.\u001b[0m\u001b[0mresult\u001b[0m\u001b[0;34m\u001b[0m\u001b[0;34m\u001b[0m\u001b[0m\n",
      "\u001b[0;32m~/celo/celo-monorepo/packages/transaction-metrics-exporter/venv/lib/python3.7/site-packages/pandas/plotting/_matplotlib/core.py\u001b[0m in \u001b[0;36mgenerate\u001b[0;34m(self)\u001b[0m\n\u001b[1;32m    259\u001b[0m     \u001b[0;32mdef\u001b[0m \u001b[0mgenerate\u001b[0m\u001b[0;34m(\u001b[0m\u001b[0mself\u001b[0m\u001b[0;34m)\u001b[0m\u001b[0;34m:\u001b[0m\u001b[0;34m\u001b[0m\u001b[0;34m\u001b[0m\u001b[0m\n\u001b[1;32m    260\u001b[0m         \u001b[0mself\u001b[0m\u001b[0;34m.\u001b[0m\u001b[0m_args_adjust\u001b[0m\u001b[0;34m(\u001b[0m\u001b[0;34m)\u001b[0m\u001b[0;34m\u001b[0m\u001b[0;34m\u001b[0m\u001b[0m\n\u001b[0;32m--> 261\u001b[0;31m         \u001b[0mself\u001b[0m\u001b[0;34m.\u001b[0m\u001b[0m_compute_plot_data\u001b[0m\u001b[0;34m(\u001b[0m\u001b[0;34m)\u001b[0m\u001b[0;34m\u001b[0m\u001b[0;34m\u001b[0m\u001b[0m\n\u001b[0m\u001b[1;32m    262\u001b[0m         \u001b[0mself\u001b[0m\u001b[0;34m.\u001b[0m\u001b[0m_setup_subplots\u001b[0m\u001b[0;34m(\u001b[0m\u001b[0;34m)\u001b[0m\u001b[0;34m\u001b[0m\u001b[0;34m\u001b[0m\u001b[0m\n\u001b[1;32m    263\u001b[0m         \u001b[0mself\u001b[0m\u001b[0;34m.\u001b[0m\u001b[0m_make_plot\u001b[0m\u001b[0;34m(\u001b[0m\u001b[0;34m)\u001b[0m\u001b[0;34m\u001b[0m\u001b[0;34m\u001b[0m\u001b[0m\n",
      "\u001b[0;32m~/celo/celo-monorepo/packages/transaction-metrics-exporter/venv/lib/python3.7/site-packages/pandas/plotting/_matplotlib/core.py\u001b[0m in \u001b[0;36m_compute_plot_data\u001b[0;34m(self)\u001b[0m\n\u001b[1;32m    408\u001b[0m         \u001b[0;31m# no non-numeric frames or series allowed\u001b[0m\u001b[0;34m\u001b[0m\u001b[0;34m\u001b[0m\u001b[0;34m\u001b[0m\u001b[0m\n\u001b[1;32m    409\u001b[0m         \u001b[0;32mif\u001b[0m \u001b[0mis_empty\u001b[0m\u001b[0;34m:\u001b[0m\u001b[0;34m\u001b[0m\u001b[0;34m\u001b[0m\u001b[0m\n\u001b[0;32m--> 410\u001b[0;31m             \u001b[0;32mraise\u001b[0m \u001b[0mTypeError\u001b[0m\u001b[0;34m(\u001b[0m\u001b[0;34m\"no numeric data to plot\"\u001b[0m\u001b[0;34m)\u001b[0m\u001b[0;34m\u001b[0m\u001b[0;34m\u001b[0m\u001b[0m\n\u001b[0m\u001b[1;32m    411\u001b[0m \u001b[0;34m\u001b[0m\u001b[0m\n\u001b[1;32m    412\u001b[0m         \u001b[0;31m# GH25587: cast ExtensionArray of pandas (IntegerArray, etc.) to\u001b[0m\u001b[0;34m\u001b[0m\u001b[0;34m\u001b[0m\u001b[0;34m\u001b[0m\u001b[0m\n",
      "\u001b[0;31mTypeError\u001b[0m: no numeric data to plot"
     ]
    }
   ],
   "source": [
    "df_stableToken = df_state.set_index('timestamp')[['currentStableBucket','currentGoldBucket']].dropna()\n",
    "ax = df_stableToken.plot()\n",
    "ax.set_xlabel(\"timestamp\")"
   ]
  },
  {
   "cell_type": "code",
   "execution_count": 23,
   "metadata": {},
   "outputs": [
    {
     "data": {
      "text/plain": [
       "Text(0.5, 0, 'timestamp')"
      ]
     },
     "execution_count": 23,
     "metadata": {},
     "output_type": "execute_result"
    },
    {
     "data": {
      "image/png": "[encoded data removed]",
      "text/plain": [
       "<Figure size 432x288 with 1 Axes>"
      ]
     },
     "metadata": {
      "needs_background": "light"
     },
     "output_type": "display_data"
    }
   ],
   "source": [
    "df_goldToken = df_state.set_index('timestamp')[['goldTokenTotalSupply']].dropna()\n",
    "ax = df_goldToken.plot()\n",
    "ax.set_xlabel(\"timestamp\")"
   ]
  }
 ],
 "metadata": {
  "kernelspec": {
   "display_name": "Python 3",
   "language": "python",
   "name": "python3"
  },
  "language_info": {
   "codemirror_mode": {
    "name": "ipython",
    "version": 3
   },
   "file_extension": ".py",
   "mimetype": "text/x-python",
   "name": "python",
   "nbconvert_exporter": "python",
   "pygments_lexer": "ipython3",
   "version": "3.7.5"
  }
 },
 "nbformat": 4,
 "nbformat_minor": 4
}
