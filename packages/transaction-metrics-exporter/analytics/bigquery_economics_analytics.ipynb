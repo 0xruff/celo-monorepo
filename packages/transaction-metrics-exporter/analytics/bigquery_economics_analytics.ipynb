{
 "cells": [
  {
   "cell_type": "code",
   "execution_count": 1,
   "metadata": {},
   "outputs": [],
   "source": [
    "from datetime import date\n",
    "from enum import Enum\n",
    "\n",
    "%load_ext google.cloud.bigquery\n",
    "from google.cloud import bigquery\n",
    "\n",
    "import pandas as pd"
   ]
  },
  {
   "cell_type": "code",
   "execution_count": 2,
   "metadata": {},
   "outputs": [
    {
     "name": "stdout",
     "output_type": "stream",
     "text": [
      "dataflow_metrics\n",
      "load_test_data\n",
      "segment_data\n",
      "segment_data_events\n",
      "segment_data_metrics\n",
      "tme_test_stakeoff\n",
      "transaction_data\n",
      "transaction_metrics_exporter\n"
     ]
    }
   ],
   "source": [
    "project = \"celo-testnet\"\n",
    "client = bigquery.Client(project)\n",
    "for dataset in client.list_datasets():\n",
    "    print(dataset.dataset_id)"
   ]
  },
  {
   "cell_type": "code",
   "execution_count": 3,
   "metadata": {},
   "outputs": [
    {
     "name": "stdout",
     "output_type": "stream",
     "text": [
      "celo-testnet.tme_test_stakeoff.tme_stakeoff_test_20200323\n"
     ]
    }
   ],
   "source": [
    "partition = date.today().strftime(\"%Y%m%d\")\n",
    "# partition = 20200316\n",
    "# partition = \"*\"\n",
    "dataset = \"transaction_metrics_exporter\"\n",
    "table = \"transaction_metrics_exporter_{0}\".format(partition)\n",
    "tme = client.get_dataset(dataset)\n",
    "table_path = \".\".join([project, dataset, table])\n",
    "table_path = \"celo-testnet.tme_test_stakeoff.tme_stakeoff_test_20200323\"\n",
    "print(table_path)"
   ]
  },
  {
   "cell_type": "code",
   "execution_count": 4,
   "metadata": {},
   "outputs": [],
   "source": [
    "class EventTypes(Enum):\n",
    "    RECEIVED_BLOCK=\"RECEIVED_BLOCK\"\n",
    "    RECEIVED_STATE=\"RECEIVED_STATE\"\n",
    "    RECEIVED_TRANSACTION=\"RECEIVED_TRANSACTION\"\n",
    "    RECEIVED_TRANSACTION_RECEIPT=\"RECEIVED_TRANSACTION_RECEIPT\"\n",
    "    RECEIVED_PARSED_TRANSACTION=\"RECEIVED_PARSED_TRANSACTION\"\n",
    "    RECEIVED_PARSED_LOG=\"RECEIVED_PARSED_LOG\""
   ]
  },
  {
   "cell_type": "code",
   "execution_count": 5,
   "metadata": {},
   "outputs": [
    {
     "data": {
      "text/html": [
       "<div>\n",
       "<style scoped>\n",
       "    .dataframe tbody tr th:only-of-type {\n",
       "        vertical-align: middle;\n",
       "    }\n",
       "\n",
       "    .dataframe tbody tr th {\n",
       "        vertical-align: top;\n",
       "    }\n",
       "\n",
       "    .dataframe thead th {\n",
       "        text-align: right;\n",
       "    }\n",
       "</style>\n",
       "<table border=\"1\" class=\"dataframe\">\n",
       "  <thead>\n",
       "    <tr style=\"text-align: right;\">\n",
       "      <th></th>\n",
       "      <th>timestamp</th>\n",
       "      <th>blockNumber</th>\n",
       "      <th>gasUsed</th>\n",
       "      <th>gasLimit</th>\n",
       "      <th>txAmount</th>\n",
       "    </tr>\n",
       "  </thead>\n",
       "  <tbody>\n",
       "    <tr>\n",
       "      <th>count</th>\n",
       "      <td>9.382000e+03</td>\n",
       "      <td>9382.000000</td>\n",
       "      <td>9.382000e+03</td>\n",
       "      <td>9382.0</td>\n",
       "      <td>9382.000000</td>\n",
       "    </tr>\n",
       "    <tr>\n",
       "      <th>mean</th>\n",
       "      <td>1.578769e+09</td>\n",
       "      <td>14596.144319</td>\n",
       "      <td>1.189959e+04</td>\n",
       "      <td>20000000.0</td>\n",
       "      <td>1.065125</td>\n",
       "    </tr>\n",
       "    <tr>\n",
       "      <th>std</th>\n",
       "      <td>1.436620e+04</td>\n",
       "      <td>2867.666777</td>\n",
       "      <td>1.546723e+05</td>\n",
       "      <td>0.0</td>\n",
       "      <td>0.917862</td>\n",
       "    </tr>\n",
       "    <tr>\n",
       "      <th>min</th>\n",
       "      <td>1.578698e+09</td>\n",
       "      <td>500.000000</td>\n",
       "      <td>0.000000e+00</td>\n",
       "      <td>20000000.0</td>\n",
       "      <td>1.000000</td>\n",
       "    </tr>\n",
       "    <tr>\n",
       "      <th>25%</th>\n",
       "      <td>1.578758e+09</td>\n",
       "      <td>12298.250000</td>\n",
       "      <td>0.000000e+00</td>\n",
       "      <td>20000000.0</td>\n",
       "      <td>1.000000</td>\n",
       "    </tr>\n",
       "    <tr>\n",
       "      <th>50%</th>\n",
       "      <td>1.578770e+09</td>\n",
       "      <td>14643.500000</td>\n",
       "      <td>0.000000e+00</td>\n",
       "      <td>20000000.0</td>\n",
       "      <td>1.000000</td>\n",
       "    </tr>\n",
       "    <tr>\n",
       "      <th>75%</th>\n",
       "      <td>1.578781e+09</td>\n",
       "      <td>16988.750000</td>\n",
       "      <td>0.000000e+00</td>\n",
       "      <td>20000000.0</td>\n",
       "      <td>1.000000</td>\n",
       "    </tr>\n",
       "    <tr>\n",
       "      <th>max</th>\n",
       "      <td>1.578793e+09</td>\n",
       "      <td>19334.000000</td>\n",
       "      <td>1.095853e+07</td>\n",
       "      <td>20000000.0</td>\n",
       "      <td>14.000000</td>\n",
       "    </tr>\n",
       "  </tbody>\n",
       "</table>\n",
       "</div>"
      ],
      "text/plain": [
       "          timestamp   blockNumber       gasUsed    gasLimit     txAmount\n",
       "count  9.382000e+03   9382.000000  9.382000e+03      9382.0  9382.000000\n",
       "mean   1.578769e+09  14596.144319  1.189959e+04  20000000.0     1.065125\n",
       "std    1.436620e+04   2867.666777  1.546723e+05         0.0     0.917862\n",
       "min    1.578698e+09    500.000000  0.000000e+00  20000000.0     1.000000\n",
       "25%    1.578758e+09  12298.250000  0.000000e+00  20000000.0     1.000000\n",
       "50%    1.578770e+09  14643.500000  0.000000e+00  20000000.0     1.000000\n",
       "75%    1.578781e+09  16988.750000  0.000000e+00  20000000.0     1.000000\n",
       "max    1.578793e+09  19334.000000  1.095853e+07  20000000.0    14.000000"
      ]
     },
     "execution_count": 5,
     "metadata": {},
     "output_type": "execute_result"
    }
   ],
   "source": [
    "query_blocks = f\"\"\"\n",
    "SELECT \n",
    "  MAX(T.jsonPayload.timestamp) as timestamp,\n",
    "  T.jsonPayload.number as blockNumber,\n",
    "  MAX(T.jsonPayload.gasUsed) as gasUsed,\n",
    "  MAX(T.jsonPayload.gasLimit) as gasLimit,\n",
    "  COUNT(T.jsonPayload.transactions) as txAmount\n",
    "FROM \n",
    "  `{table_path}` as T\n",
    "WHERE\n",
    "   T.jsonPayload.event='{EventTypes.RECEIVED_BLOCK.value}'\n",
    "GROUP BY blockNumber\n",
    "ORDER BY blockNumber DESC \n",
    "\"\"\"\n",
    "\n",
    "df_blocks = client.query(\n",
    "    query_blocks, \n",
    "    job_config=bigquery.QueryJobConfig(\n",
    "        query_parameters=[]\n",
    "    )\n",
    ").to_dataframe()\n",
    "\n",
    "df_blocks.describe()"
   ]
  },
  {
   "cell_type": "code",
   "execution_count": 6,
   "metadata": {},
   "outputs": [
    {
     "data": {
      "text/html": [
       "<div>\n",
       "<style scoped>\n",
       "    .dataframe tbody tr th:only-of-type {\n",
       "        vertical-align: middle;\n",
       "    }\n",
       "\n",
       "    .dataframe tbody tr th {\n",
       "        vertical-align: top;\n",
       "    }\n",
       "\n",
       "    .dataframe thead th {\n",
       "        text-align: right;\n",
       "    }\n",
       "</style>\n",
       "<table border=\"1\" class=\"dataframe\">\n",
       "  <thead>\n",
       "    <tr style=\"text-align: right;\">\n",
       "      <th></th>\n",
       "      <th>timestamp</th>\n",
       "      <th>blockNumber</th>\n",
       "      <th>gasUsed</th>\n",
       "      <th>gasLimit</th>\n",
       "      <th>txAmount</th>\n",
       "    </tr>\n",
       "  </thead>\n",
       "  <tbody>\n",
       "    <tr>\n",
       "      <th>0</th>\n",
       "      <td>1.578793e+09</td>\n",
       "      <td>19334.0</td>\n",
       "      <td>0.0</td>\n",
       "      <td>20000000.0</td>\n",
       "      <td>1</td>\n",
       "    </tr>\n",
       "    <tr>\n",
       "      <th>1</th>\n",
       "      <td>1.578793e+09</td>\n",
       "      <td>19333.0</td>\n",
       "      <td>0.0</td>\n",
       "      <td>20000000.0</td>\n",
       "      <td>1</td>\n",
       "    </tr>\n",
       "    <tr>\n",
       "      <th>2</th>\n",
       "      <td>1.578793e+09</td>\n",
       "      <td>19332.0</td>\n",
       "      <td>0.0</td>\n",
       "      <td>20000000.0</td>\n",
       "      <td>1</td>\n",
       "    </tr>\n",
       "    <tr>\n",
       "      <th>3</th>\n",
       "      <td>1.578793e+09</td>\n",
       "      <td>19331.0</td>\n",
       "      <td>0.0</td>\n",
       "      <td>20000000.0</td>\n",
       "      <td>1</td>\n",
       "    </tr>\n",
       "    <tr>\n",
       "      <th>4</th>\n",
       "      <td>1.578793e+09</td>\n",
       "      <td>19330.0</td>\n",
       "      <td>0.0</td>\n",
       "      <td>20000000.0</td>\n",
       "      <td>1</td>\n",
       "    </tr>\n",
       "  </tbody>\n",
       "</table>\n",
       "</div>"
      ],
      "text/plain": [
       "      timestamp  blockNumber  gasUsed    gasLimit  txAmount\n",
       "0  1.578793e+09      19334.0      0.0  20000000.0         1\n",
       "1  1.578793e+09      19333.0      0.0  20000000.0         1\n",
       "2  1.578793e+09      19332.0      0.0  20000000.0         1\n",
       "3  1.578793e+09      19331.0      0.0  20000000.0         1\n",
       "4  1.578793e+09      19330.0      0.0  20000000.0         1"
      ]
     },
     "execution_count": 6,
     "metadata": {},
     "output_type": "execute_result"
    }
   ],
   "source": [
    "df_blocks.head()"
   ]
  },
  {
   "cell_type": "code",
   "execution_count": 7,
   "metadata": {},
   "outputs": [
    {
     "name": "stdout",
     "output_type": "stream",
     "text": [
      "last block  : 19334 on 1578793117.0\n",
      "first block : 500 on 1578697906.0\n",
      "blocks load : 9382\n",
      "transactions: 9993\n",
      "mean gasUsed: 11900 GcWei\n"
     ]
    },
    {
     "data": {
      "text/plain": [
       "<matplotlib.axes._subplots.AxesSubplot at 0x7f75586da6d0>"
      ]
     },
     "execution_count": 7,
     "metadata": {},
     "output_type": "execute_result"
    },
    {
     "data": {
      "image/png": "[encoded data removed]",
      "text/plain": [
       "<Figure size 432x288 with 1 Axes>"
      ]
     },
     "metadata": {
      "needs_background": "light"
     },
     "output_type": "display_data"
    }
   ],
   "source": [
    "last_block, first_block = df_blocks.blockNumber.max(), df_blocks.blockNumber.min()\n",
    "print(f\"last block  : {last_block:.0f} on {df_blocks.timestamp.max()}\") \n",
    "print(f\"first block : {first_block:.0f} on {df_blocks.timestamp.min()}\")\n",
    "print(f\"blocks load : {df_blocks.timestamp.count():.0f}\")\n",
    "print(f\"transactions: {df_blocks.txAmount.sum()}\")\n",
    "print(f\"mean gasUsed: {df_blocks.gasUsed.mean():.0f} GcWei\")\n",
    "df_blocks[::-1].diff(axis=0).timestamp.plot()"
   ]
  },
  {
   "cell_type": "code",
   "execution_count": 30,
   "metadata": {},
   "outputs": [
    {
     "data": {
      "text/html": [
       "<div>\n",
       "<style scoped>\n",
       "    .dataframe tbody tr th:only-of-type {\n",
       "        vertical-align: middle;\n",
       "    }\n",
       "\n",
       "    .dataframe tbody tr th {\n",
       "        vertical-align: top;\n",
       "    }\n",
       "\n",
       "    .dataframe thead th {\n",
       "        text-align: right;\n",
       "    }\n",
       "</style>\n",
       "<table border=\"1\" class=\"dataframe\">\n",
       "  <thead>\n",
       "    <tr style=\"text-align: right;\">\n",
       "      <th></th>\n",
       "      <th>blockNumber</th>\n",
       "      <th>rewardsamount</th>\n",
       "      <th>rewardsmultiplier</th>\n",
       "      <th>medianRate</th>\n",
       "      <th>currentStableBucket</th>\n",
       "      <th>currentGoldBucket</th>\n",
       "      <th>goldTokenTotalSupply</th>\n",
       "    </tr>\n",
       "  </thead>\n",
       "  <tbody>\n",
       "    <tr>\n",
       "      <th>count</th>\n",
       "      <td>53295.000000</td>\n",
       "      <td>1.065900e+04</td>\n",
       "      <td>1.065900e+04</td>\n",
       "      <td>10659.0</td>\n",
       "      <td>1.065900e+04</td>\n",
       "      <td>1.065900e+04</td>\n",
       "      <td>1.065900e+04</td>\n",
       "    </tr>\n",
       "    <tr>\n",
       "      <th>mean</th>\n",
       "      <td>14106.307721</td>\n",
       "      <td>6.000292e+26</td>\n",
       "      <td>1.616452e+24</td>\n",
       "      <td>10.0</td>\n",
       "      <td>9.995616e+24</td>\n",
       "      <td>9.995616e+23</td>\n",
       "      <td>1.069011e+26</td>\n",
       "    </tr>\n",
       "    <tr>\n",
       "      <th>std</th>\n",
       "      <td>4467.678142</td>\n",
       "      <td>9.527368e+21</td>\n",
       "      <td>2.641005e+19</td>\n",
       "      <td>0.0</td>\n",
       "      <td>1.350670e+21</td>\n",
       "      <td>1.350670e+20</td>\n",
       "      <td>1.718068e+10</td>\n",
       "    </tr>\n",
       "    <tr>\n",
       "      <th>min</th>\n",
       "      <td>500.000000</td>\n",
       "      <td>6.000000e+26</td>\n",
       "      <td>1.616372e+24</td>\n",
       "      <td>10.0</td>\n",
       "      <td>9.995200e+24</td>\n",
       "      <td>9.995200e+23</td>\n",
       "      <td>1.069011e+26</td>\n",
       "    </tr>\n",
       "    <tr>\n",
       "      <th>25%</th>\n",
       "      <td>12006.000000</td>\n",
       "      <td>6.000248e+26</td>\n",
       "      <td>1.616440e+24</td>\n",
       "      <td>10.0</td>\n",
       "      <td>9.995200e+24</td>\n",
       "      <td>9.995200e+23</td>\n",
       "      <td>1.069011e+26</td>\n",
       "    </tr>\n",
       "    <tr>\n",
       "      <th>50%</th>\n",
       "      <td>14671.000000</td>\n",
       "      <td>6.000304e+26</td>\n",
       "      <td>1.616456e+24</td>\n",
       "      <td>10.0</td>\n",
       "      <td>9.995200e+24</td>\n",
       "      <td>9.995200e+23</td>\n",
       "      <td>1.069011e+26</td>\n",
       "    </tr>\n",
       "    <tr>\n",
       "      <th>75%</th>\n",
       "      <td>17336.000000</td>\n",
       "      <td>6.000360e+26</td>\n",
       "      <td>1.616471e+24</td>\n",
       "      <td>10.0</td>\n",
       "      <td>9.995200e+24</td>\n",
       "      <td>9.995200e+23</td>\n",
       "      <td>1.069011e+26</td>\n",
       "    </tr>\n",
       "    <tr>\n",
       "      <th>max</th>\n",
       "      <td>20000.000000</td>\n",
       "      <td>6.000417e+26</td>\n",
       "      <td>1.616487e+24</td>\n",
       "      <td>10.0</td>\n",
       "      <td>1.000000e+25</td>\n",
       "      <td>1.000000e+24</td>\n",
       "      <td>1.069011e+26</td>\n",
       "    </tr>\n",
       "  </tbody>\n",
       "</table>\n",
       "</div>"
      ],
      "text/plain": [
       "        blockNumber  rewardsamount  rewardsmultiplier  medianRate  \\\n",
       "count  53295.000000   1.065900e+04       1.065900e+04     10659.0   \n",
       "mean   14106.307721   6.000292e+26       1.616452e+24        10.0   \n",
       "std     4467.678142   9.527368e+21       2.641005e+19         0.0   \n",
       "min      500.000000   6.000000e+26       1.616372e+24        10.0   \n",
       "25%    12006.000000   6.000248e+26       1.616440e+24        10.0   \n",
       "50%    14671.000000   6.000304e+26       1.616456e+24        10.0   \n",
       "75%    17336.000000   6.000360e+26       1.616471e+24        10.0   \n",
       "max    20000.000000   6.000417e+26       1.616487e+24        10.0   \n",
       "\n",
       "       currentStableBucket  currentGoldBucket  goldTokenTotalSupply  \n",
       "count         1.065900e+04       1.065900e+04          1.065900e+04  \n",
       "mean          9.995616e+24       9.995616e+23          1.069011e+26  \n",
       "std           1.350670e+21       1.350670e+20          1.718068e+10  \n",
       "min           9.995200e+24       9.995200e+23          1.069011e+26  \n",
       "25%           9.995200e+24       9.995200e+23          1.069011e+26  \n",
       "50%           9.995200e+24       9.995200e+23          1.069011e+26  \n",
       "75%           9.995200e+24       9.995200e+23          1.069011e+26  \n",
       "max           1.000000e+25       1.000000e+24          1.069011e+26  "
      ]
     },
     "execution_count": 30,
     "metadata": {},
     "output_type": "execute_result"
    }
   ],
   "source": [
    "query_state = f\"\"\"\n",
    "SELECT\n",
    "  timestamp,\n",
    "  jsonPayload.blockNumber,\n",
    "  jsonPayload.values.rewardsamount,\n",
    "  jsonPayload.values.rewardsmultiplier,\n",
    "  jsonPayload.values.medianRate,\n",
    "  jsonPayload.values.currentStableBucket,\n",
    "  jsonPayload.values.currentGoldBucket,\n",
    "  jsonPayload.values.goldTokenTotalSupply\n",
    "FROM \n",
    "  `{table_path}` as T\n",
    "WHERE \n",
    "  jsonPayload.event='{EventTypes.RECEIVED_STATE.value}'\n",
    "ORDER BY \n",
    "  T.jsonPayload.blockNumber DESC,\n",
    "  T.timestamp DESC\n",
    "\"\"\"\n",
    "\n",
    "df_state = client.query(\n",
    "    query_state, \n",
    "    job_config=bigquery.QueryJobConfig(\n",
    "        query_parameters=[]\n",
    "    )\n",
    ").to_dataframe()\n",
    "\n",
    "df_state.describe()"
   ]
  },
  {
   "cell_type": "code",
   "execution_count": 31,
   "metadata": {},
   "outputs": [
    {
     "data": {
      "text/html": [
       "<div>\n",
       "<style scoped>\n",
       "    .dataframe tbody tr th:only-of-type {\n",
       "        vertical-align: middle;\n",
       "    }\n",
       "\n",
       "    .dataframe tbody tr th {\n",
       "        vertical-align: top;\n",
       "    }\n",
       "\n",
       "    .dataframe thead th {\n",
       "        text-align: right;\n",
       "    }\n",
       "</style>\n",
       "<table border=\"1\" class=\"dataframe\">\n",
       "  <thead>\n",
       "    <tr style=\"text-align: right;\">\n",
       "      <th></th>\n",
       "      <th>blockNumber</th>\n",
       "      <th>timestamp_tme</th>\n",
       "      <th>rewardsamount</th>\n",
       "      <th>rewardsmultiplier</th>\n",
       "      <th>medianRate</th>\n",
       "      <th>currentStableBucket</th>\n",
       "      <th>currentGoldBucket</th>\n",
       "      <th>goldTokenTotalSupply</th>\n",
       "      <th>timestamp_block</th>\n",
       "      <th>gasUsed</th>\n",
       "      <th>gasLimit</th>\n",
       "      <th>txAmount</th>\n",
       "      <th>datetime_block</th>\n",
       "    </tr>\n",
       "  </thead>\n",
       "  <tbody>\n",
       "    <tr>\n",
       "      <th>0</th>\n",
       "      <td>500.0</td>\n",
       "      <td>2020-03-23 12:49:44.898715+00:00</td>\n",
       "      <td>6.000000e+26</td>\n",
       "      <td>1.616372e+24</td>\n",
       "      <td>10.0</td>\n",
       "      <td>1.000000e+25</td>\n",
       "      <td>1.000000e+24</td>\n",
       "      <td>1.069011e+26</td>\n",
       "      <td>1.578698e+09</td>\n",
       "      <td>27023.0</td>\n",
       "      <td>20000000.0</td>\n",
       "      <td>14</td>\n",
       "      <td>2020-01-10 23:11:46</td>\n",
       "    </tr>\n",
       "    <tr>\n",
       "      <th>1</th>\n",
       "      <td>501.0</td>\n",
       "      <td>2020-03-23 12:49:45.993999+00:00</td>\n",
       "      <td>6.000000e+26</td>\n",
       "      <td>1.616372e+24</td>\n",
       "      <td>10.0</td>\n",
       "      <td>1.000000e+25</td>\n",
       "      <td>1.000000e+24</td>\n",
       "      <td>1.069011e+26</td>\n",
       "      <td>1.578698e+09</td>\n",
       "      <td>658641.0</td>\n",
       "      <td>20000000.0</td>\n",
       "      <td>14</td>\n",
       "      <td>2020-01-10 23:11:51</td>\n",
       "    </tr>\n",
       "    <tr>\n",
       "      <th>2</th>\n",
       "      <td>502.0</td>\n",
       "      <td>2020-03-23 12:49:46.593390+00:00</td>\n",
       "      <td>6.000000e+26</td>\n",
       "      <td>1.616372e+24</td>\n",
       "      <td>10.0</td>\n",
       "      <td>1.000000e+25</td>\n",
       "      <td>1.000000e+24</td>\n",
       "      <td>1.069011e+26</td>\n",
       "      <td>1.578698e+09</td>\n",
       "      <td>6628959.0</td>\n",
       "      <td>20000000.0</td>\n",
       "      <td>14</td>\n",
       "      <td>2020-01-10 23:11:56</td>\n",
       "    </tr>\n",
       "    <tr>\n",
       "      <th>3</th>\n",
       "      <td>503.0</td>\n",
       "      <td>2020-03-23 12:49:47.039711+00:00</td>\n",
       "      <td>6.000000e+26</td>\n",
       "      <td>1.616372e+24</td>\n",
       "      <td>10.0</td>\n",
       "      <td>1.000000e+25</td>\n",
       "      <td>1.000000e+24</td>\n",
       "      <td>1.069011e+26</td>\n",
       "      <td>1.578698e+09</td>\n",
       "      <td>29625.0</td>\n",
       "      <td>20000000.0</td>\n",
       "      <td>14</td>\n",
       "      <td>2020-01-10 23:12:01</td>\n",
       "    </tr>\n",
       "    <tr>\n",
       "      <th>4</th>\n",
       "      <td>504.0</td>\n",
       "      <td>2020-03-23 12:49:47.495530+00:00</td>\n",
       "      <td>6.000000e+26</td>\n",
       "      <td>1.616372e+24</td>\n",
       "      <td>10.0</td>\n",
       "      <td>1.000000e+25</td>\n",
       "      <td>1.000000e+24</td>\n",
       "      <td>1.069011e+26</td>\n",
       "      <td>1.578698e+09</td>\n",
       "      <td>166350.0</td>\n",
       "      <td>20000000.0</td>\n",
       "      <td>14</td>\n",
       "      <td>2020-01-10 23:12:06</td>\n",
       "    </tr>\n",
       "  </tbody>\n",
       "</table>\n",
       "</div>"
      ],
      "text/plain": [
       "   blockNumber                    timestamp_tme  rewardsamount  \\\n",
       "0        500.0 2020-03-23 12:49:44.898715+00:00   6.000000e+26   \n",
       "1        501.0 2020-03-23 12:49:45.993999+00:00   6.000000e+26   \n",
       "2        502.0 2020-03-23 12:49:46.593390+00:00   6.000000e+26   \n",
       "3        503.0 2020-03-23 12:49:47.039711+00:00   6.000000e+26   \n",
       "4        504.0 2020-03-23 12:49:47.495530+00:00   6.000000e+26   \n",
       "\n",
       "   rewardsmultiplier  medianRate  currentStableBucket  currentGoldBucket  \\\n",
       "0       1.616372e+24        10.0         1.000000e+25       1.000000e+24   \n",
       "1       1.616372e+24        10.0         1.000000e+25       1.000000e+24   \n",
       "2       1.616372e+24        10.0         1.000000e+25       1.000000e+24   \n",
       "3       1.616372e+24        10.0         1.000000e+25       1.000000e+24   \n",
       "4       1.616372e+24        10.0         1.000000e+25       1.000000e+24   \n",
       "\n",
       "   goldTokenTotalSupply  timestamp_block    gasUsed    gasLimit  txAmount  \\\n",
       "0          1.069011e+26     1.578698e+09    27023.0  20000000.0        14   \n",
       "1          1.069011e+26     1.578698e+09   658641.0  20000000.0        14   \n",
       "2          1.069011e+26     1.578698e+09  6628959.0  20000000.0        14   \n",
       "3          1.069011e+26     1.578698e+09    29625.0  20000000.0        14   \n",
       "4          1.069011e+26     1.578698e+09   166350.0  20000000.0        14   \n",
       "\n",
       "       datetime_block  \n",
       "0 2020-01-10 23:11:46  \n",
       "1 2020-01-10 23:11:51  \n",
       "2 2020-01-10 23:11:56  \n",
       "3 2020-01-10 23:12:01  \n",
       "4 2020-01-10 23:12:06  "
      ]
     },
     "execution_count": 31,
     "metadata": {},
     "output_type": "execute_result"
    }
   ],
   "source": [
    "df = df_state \\\n",
    "    .groupby('blockNumber').max() \\\n",
    "    .merge(df_blocks, left_on='blockNumber', right_on='blockNumber', suffixes=('_tme', '_block'))\n",
    "df['datetime_block'] = pd.to_datetime(df['timestamp_block'],unit='s')\n",
    "df.head()"
   ]
  },
  {
   "cell_type": "code",
   "execution_count": 32,
   "metadata": {},
   "outputs": [
    {
     "data": {
      "text/plain": [
       "Text(0, 0.5, 'SortedOracles.medianRate')"
      ]
     },
     "execution_count": 32,
     "metadata": {},
     "output_type": "execute_result"
    },
    {
     "data": {
      "image/png": "[encoded data removed]",
      "text/plain": [
       "<Figure size 432x288 with 1 Axes>"
      ]
     },
     "metadata": {
      "needs_background": "light"
     },
     "output_type": "display_data"
    }
   ],
   "source": [
    "df_sortedOracles = df.set_index('datetime_block')['medianRate']\n",
    "ax = df_sortedOracles.plot(marker=\"x\")\n",
    "ax.set_ylabel(\"SortedOracles.medianRate\")"
   ]
  },
  {
   "cell_type": "code",
   "execution_count": 33,
   "metadata": {},
   "outputs": [
    {
     "data": {
      "text/plain": [
       "<matplotlib.axes._subplots.AxesSubplot at 0x7f75515ad6d0>"
      ]
     },
     "execution_count": 33,
     "metadata": {},
     "output_type": "execute_result"
    },
    {
     "data": {
      "image/png": "[encoded data removed]",
      "text/plain": [
       "<Figure size 432x288 with 1 Axes>"
      ]
     },
     "metadata": {
      "needs_background": "light"
     },
     "output_type": "display_data"
    }
   ],
   "source": [
    "df_stableToken = df.set_index('datetime_block')[['currentStableBucket', 'currentGoldBucket']].astype('float')\n",
    "df_stableToken.plot(marker=\"x\")"
   ]
  },
  {
   "cell_type": "code",
   "execution_count": 34,
   "metadata": {},
   "outputs": [
    {
     "data": {
      "image/png": "[encoded data removed]",
      "text/plain": [
       "<Figure size 432x288 with 1 Axes>"
      ]
     },
     "metadata": {
      "needs_background": "light"
     },
     "output_type": "display_data"
    }
   ],
   "source": [
    "df_goldToken = df.set_index('datetime_block')[['goldTokenTotalSupply']]\n",
    "ax = df_goldToken.plot(marker=\"x\")"
   ]
  },
  {
   "cell_type": "code",
   "execution_count": 35,
   "metadata": {},
   "outputs": [
    {
     "data": {
      "image/png": "[encoded data removed]",
      "text/plain": [
       "<Figure size 432x288 with 1 Axes>"
      ]
     },
     "metadata": {
      "needs_background": "light"
     },
     "output_type": "display_data"
    }
   ],
   "source": [
    "df_rewardsAmount = df.set_index('datetime_block')[['rewardsamount']]\n",
    "ax = df_rewardsAmount.plot(marker=\"x\")"
   ]
  },
  {
   "cell_type": "code",
   "execution_count": 36,
   "metadata": {},
   "outputs": [
    {
     "data": {
      "image/png": "[encoded data removed]",
      "text/plain": [
       "<Figure size 432x288 with 1 Axes>"
      ]
     },
     "metadata": {
      "needs_background": "light"
     },
     "output_type": "display_data"
    }
   ],
   "source": [
    "df_rewardsMultiplier = df.set_index('datetime_block')[['rewardsmultiplier']]\n",
    "ax = df_rewardsMultiplier.plot(marker=\"x\")"
   ]
  },
  {
   "cell_type": "code",
   "execution_count": 21,
   "metadata": {},
   "outputs": [
    {
     "data": {
      "text/html": [
       "<div>\n",
       "<style scoped>\n",
       "    .dataframe tbody tr th:only-of-type {\n",
       "        vertical-align: middle;\n",
       "    }\n",
       "\n",
       "    .dataframe tbody tr th {\n",
       "        vertical-align: top;\n",
       "    }\n",
       "\n",
       "    .dataframe thead th {\n",
       "        text-align: right;\n",
       "    }\n",
       "</style>\n",
       "<table border=\"1\" class=\"dataframe\">\n",
       "  <thead>\n",
       "    <tr style=\"text-align: right;\">\n",
       "      <th></th>\n",
       "      <th>rewardsamount</th>\n",
       "    </tr>\n",
       "    <tr>\n",
       "      <th>datetime_block</th>\n",
       "      <th></th>\n",
       "    </tr>\n",
       "  </thead>\n",
       "  <tbody>\n",
       "    <tr>\n",
       "      <th>2020-01-12 01:38:37</th>\n",
       "      <td>6.000403e+26</td>\n",
       "    </tr>\n",
       "    <tr>\n",
       "      <th>2020-01-12 01:38:32</th>\n",
       "      <td>6.000403e+26</td>\n",
       "    </tr>\n",
       "    <tr>\n",
       "      <th>2020-01-12 01:38:27</th>\n",
       "      <td>6.000403e+26</td>\n",
       "    </tr>\n",
       "    <tr>\n",
       "      <th>2020-01-12 01:38:22</th>\n",
       "      <td>6.000403e+26</td>\n",
       "    </tr>\n",
       "    <tr>\n",
       "      <th>2020-01-12 01:38:17</th>\n",
       "      <td>6.000403e+26</td>\n",
       "    </tr>\n",
       "    <tr>\n",
       "      <th>...</th>\n",
       "      <td>...</td>\n",
       "    </tr>\n",
       "    <tr>\n",
       "      <th>2020-01-10 23:11:46</th>\n",
       "      <td>6.000000e+26</td>\n",
       "    </tr>\n",
       "    <tr>\n",
       "      <th>2020-01-10 23:11:46</th>\n",
       "      <td>6.000000e+26</td>\n",
       "    </tr>\n",
       "    <tr>\n",
       "      <th>2020-01-10 23:11:46</th>\n",
       "      <td>6.000000e+26</td>\n",
       "    </tr>\n",
       "    <tr>\n",
       "      <th>2020-01-10 23:11:46</th>\n",
       "      <td>6.000000e+26</td>\n",
       "    </tr>\n",
       "    <tr>\n",
       "      <th>2020-01-10 23:11:46</th>\n",
       "      <td>6.000000e+26</td>\n",
       "    </tr>\n",
       "  </tbody>\n",
       "</table>\n",
       "<p>9993 rows × 1 columns</p>\n",
       "</div>"
      ],
      "text/plain": [
       "                     rewardsamount\n",
       "datetime_block                    \n",
       "2020-01-12 01:38:37   6.000403e+26\n",
       "2020-01-12 01:38:32   6.000403e+26\n",
       "2020-01-12 01:38:27   6.000403e+26\n",
       "2020-01-12 01:38:22   6.000403e+26\n",
       "2020-01-12 01:38:17   6.000403e+26\n",
       "...                            ...\n",
       "2020-01-10 23:11:46   6.000000e+26\n",
       "2020-01-10 23:11:46   6.000000e+26\n",
       "2020-01-10 23:11:46   6.000000e+26\n",
       "2020-01-10 23:11:46   6.000000e+26\n",
       "2020-01-10 23:11:46   6.000000e+26\n",
       "\n",
       "[9993 rows x 1 columns]"
      ]
     },
     "execution_count": 21,
     "metadata": {},
     "output_type": "execute_result"
    }
   ],
   "source": [
    "df_rewardsAmount"
   ]
  }
 ],
 "metadata": {
  "kernelspec": {
   "display_name": "Python 3",
   "language": "python",
   "name": "python3"
  },
  "language_info": {
   "codemirror_mode": {
    "name": "ipython",
    "version": 3
   },
   "file_extension": ".py",
   "mimetype": "text/x-python",
   "name": "python",
   "nbconvert_exporter": "python",
   "pygments_lexer": "ipython3",
   "version": "3.7.5"
  }
 },
 "nbformat": 4,
 "nbformat_minor": 4
}
