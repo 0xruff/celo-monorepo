{
 "cells": [
  {
   "cell_type": "code",
   "execution_count": 1,
   "metadata": {},
   "outputs": [],
   "source": [
    "from datetime import date\n",
    "from enum import Enum\n",
    "\n",
    "%load_ext google.cloud.bigquery\n",
    "from google.cloud import bigquery\n"
   ]
  },
  {
   "cell_type": "code",
   "execution_count": 2,
   "metadata": {},
   "outputs": [
    {
     "name": "stdout",
     "output_type": "stream",
     "text": [
      "dataflow_metrics\n",
      "load_test_data\n",
      "segment_data\n",
      "segment_data_events\n",
      "segment_data_metrics\n",
      "transaction_data\n",
      "transaction_metrics_exporter\n"
     ]
    }
   ],
   "source": [
    "project = \"celo-testnet\"\n",
    "client = bigquery.Client(project)\n",
    "for dataset in client.list_datasets():\n",
    "    print(dataset.dataset_id)"
   ]
  },
  {
   "cell_type": "code",
   "execution_count": 3,
   "metadata": {},
   "outputs": [
    {
     "name": "stdout",
     "output_type": "stream",
     "text": [
      "celo-testnet.transaction_metrics_exporter.transaction_metrics_exporter_20200318\n"
     ]
    }
   ],
   "source": [
    "partition = date.today().strftime(\"%Y%m%d\")\n",
    "# partition = 20200316\n",
    "# partition = \"*\"\n",
    "dataset = \"transaction_metrics_exporter\"\n",
    "table = \"transaction_metrics_exporter_{0}\".format(partition)\n",
    "tme = client.get_dataset(dataset)\n",
    "table_path = \".\".join([project, dataset, table])\n",
    "print(table_path)"
   ]
  },
  {
   "cell_type": "code",
   "execution_count": 4,
   "metadata": {},
   "outputs": [],
   "source": [
    "class EventTypes(Enum):\n",
    "    RECEIVED_BLOCK=\"RECEIVED_BLOCK\"\n",
    "    RECEIVED_STATE=\"RECEIVED_STATE\"\n",
    "    RECEIVED_TRANSACTION=\"RECEIVED_TRANSACTION\"\n",
    "    RECEIVED_TRANSACTION_RECEIPT=\"RECEIVED_TRANSACTION_RECEIPT\"\n",
    "    RECEIVED_PARSED_TRANSACTION=\"RECEIVED_PARSED_TRANSACTION\"\n",
    "    RECEIVED_PARSED_LOG=\"RECEIVED_PARSED_LOG\""
   ]
  },
  {
   "cell_type": "code",
   "execution_count": 5,
   "metadata": {},
   "outputs": [
    {
     "data": {
      "text/html": [
       "<div>\n",
       "<style scoped>\n",
       "    .dataframe tbody tr th:only-of-type {\n",
       "        vertical-align: middle;\n",
       "    }\n",
       "\n",
       "    .dataframe tbody tr th {\n",
       "        vertical-align: top;\n",
       "    }\n",
       "\n",
       "    .dataframe thead th {\n",
       "        text-align: right;\n",
       "    }\n",
       "</style>\n",
       "<table border=\"1\" class=\"dataframe\">\n",
       "  <thead>\n",
       "    <tr style=\"text-align: right;\">\n",
       "      <th></th>\n",
       "      <th>blockNumber</th>\n",
       "      <th>gasUsed</th>\n",
       "      <th>gasLimit</th>\n",
       "      <th>txAmount</th>\n",
       "    </tr>\n",
       "  </thead>\n",
       "  <tbody>\n",
       "    <tr>\n",
       "      <th>count</th>\n",
       "      <td>9.267000e+03</td>\n",
       "      <td>9267.000000</td>\n",
       "      <td>9267.0</td>\n",
       "      <td>9267.0</td>\n",
       "    </tr>\n",
       "    <tr>\n",
       "      <th>mean</th>\n",
       "      <td>1.122436e+06</td>\n",
       "      <td>99794.169310</td>\n",
       "      <td>20000000.0</td>\n",
       "      <td>1.0</td>\n",
       "    </tr>\n",
       "    <tr>\n",
       "      <th>std</th>\n",
       "      <td>2.675297e+03</td>\n",
       "      <td>77997.944297</td>\n",
       "      <td>0.0</td>\n",
       "      <td>0.0</td>\n",
       "    </tr>\n",
       "    <tr>\n",
       "      <th>min</th>\n",
       "      <td>1.117803e+06</td>\n",
       "      <td>0.000000</td>\n",
       "      <td>20000000.0</td>\n",
       "      <td>1.0</td>\n",
       "    </tr>\n",
       "    <tr>\n",
       "      <th>25%</th>\n",
       "      <td>1.120120e+06</td>\n",
       "      <td>41069.000000</td>\n",
       "      <td>20000000.0</td>\n",
       "      <td>1.0</td>\n",
       "    </tr>\n",
       "    <tr>\n",
       "      <th>50%</th>\n",
       "      <td>1.122436e+06</td>\n",
       "      <td>82138.000000</td>\n",
       "      <td>20000000.0</td>\n",
       "      <td>1.0</td>\n",
       "    </tr>\n",
       "    <tr>\n",
       "      <th>75%</th>\n",
       "      <td>1.124752e+06</td>\n",
       "      <td>120432.000000</td>\n",
       "      <td>20000000.0</td>\n",
       "      <td>1.0</td>\n",
       "    </tr>\n",
       "    <tr>\n",
       "      <th>max</th>\n",
       "      <td>1.127069e+06</td>\n",
       "      <td>884992.000000</td>\n",
       "      <td>20000000.0</td>\n",
       "      <td>1.0</td>\n",
       "    </tr>\n",
       "  </tbody>\n",
       "</table>\n",
       "</div>"
      ],
      "text/plain": [
       "        blockNumber        gasUsed    gasLimit  txAmount\n",
       "count  9.267000e+03    9267.000000      9267.0    9267.0\n",
       "mean   1.122436e+06   99794.169310  20000000.0       1.0\n",
       "std    2.675297e+03   77997.944297         0.0       0.0\n",
       "min    1.117803e+06       0.000000  20000000.0       1.0\n",
       "25%    1.120120e+06   41069.000000  20000000.0       1.0\n",
       "50%    1.122436e+06   82138.000000  20000000.0       1.0\n",
       "75%    1.124752e+06  120432.000000  20000000.0       1.0\n",
       "max    1.127069e+06  884992.000000  20000000.0       1.0"
      ]
     },
     "execution_count": 5,
     "metadata": {},
     "output_type": "execute_result"
    }
   ],
   "source": [
    "query_blocks = f\"\"\"\n",
    "WITH \n",
    "  unique_blockNumbers AS (\n",
    "    SELECT \n",
    "      DISTINCT jsonPayload.number AS number,\n",
    "      timestamp as timestamp\n",
    "    FROM \n",
    "      `{table_path}`\n",
    "    WHERE \n",
    "      jsonPayload.event='{EventTypes.RECEIVED_BLOCK.value}' \n",
    "  )\n",
    "SELECT \n",
    "  MAX(T.timestamp) as timestamp,\n",
    "  T.jsonPayload.number as blockNumber,\n",
    "  MAX(T.jsonPayload.gasUsed) as gasUsed,\n",
    "  MAX(T.jsonPayload.gasLimit) as gasLimit,\n",
    "  COUNT(T.jsonPayload.transactions) as txAmount\n",
    "FROM \n",
    "  `{table_path}` as T\n",
    "INNER JOIN unique_blockNumbers \n",
    "ON \n",
    "  T.jsonPayload.number = unique_blockNumbers.number\n",
    "  AND T.timestamp > unique_blockNumbers.timestamp\n",
    "  AND T.jsonPayload.event='{EventTypes.RECEIVED_BLOCK.value}'\n",
    "GROUP BY blockNumber\n",
    "ORDER BY blockNumber DESC \n",
    "\"\"\"\n",
    "\n",
    "df_blocks = client.query(\n",
    "    query_blocks, \n",
    "    job_config=bigquery.QueryJobConfig(\n",
    "        query_parameters=[]\n",
    "    )\n",
    ").to_dataframe()\n",
    "\n",
    "df_blocks.describe()"
   ]
  },
  {
   "cell_type": "code",
   "execution_count": 6,
   "metadata": {},
   "outputs": [
    {
     "data": {
      "text/html": [
       "<div>\n",
       "<style scoped>\n",
       "    .dataframe tbody tr th:only-of-type {\n",
       "        vertical-align: middle;\n",
       "    }\n",
       "\n",
       "    .dataframe tbody tr th {\n",
       "        vertical-align: top;\n",
       "    }\n",
       "\n",
       "    .dataframe thead th {\n",
       "        text-align: right;\n",
       "    }\n",
       "</style>\n",
       "<table border=\"1\" class=\"dataframe\">\n",
       "  <thead>\n",
       "    <tr style=\"text-align: right;\">\n",
       "      <th></th>\n",
       "      <th>timestamp</th>\n",
       "      <th>blockNumber</th>\n",
       "      <th>gasUsed</th>\n",
       "      <th>gasLimit</th>\n",
       "      <th>txAmount</th>\n",
       "    </tr>\n",
       "  </thead>\n",
       "  <tbody>\n",
       "    <tr>\n",
       "      <th>0</th>\n",
       "      <td>2020-03-18 14:59:40.641698+00:00</td>\n",
       "      <td>1127069.0</td>\n",
       "      <td>108726.0</td>\n",
       "      <td>20000000.0</td>\n",
       "      <td>1</td>\n",
       "    </tr>\n",
       "    <tr>\n",
       "      <th>1</th>\n",
       "      <td>2020-03-18 14:59:35.663730+00:00</td>\n",
       "      <td>1127068.0</td>\n",
       "      <td>91069.0</td>\n",
       "      <td>20000000.0</td>\n",
       "      <td>1</td>\n",
       "    </tr>\n",
       "    <tr>\n",
       "      <th>2</th>\n",
       "      <td>2020-03-18 14:59:30.546685+00:00</td>\n",
       "      <td>1127067.0</td>\n",
       "      <td>79363.0</td>\n",
       "      <td>20000000.0</td>\n",
       "      <td>1</td>\n",
       "    </tr>\n",
       "    <tr>\n",
       "      <th>3</th>\n",
       "      <td>2020-03-18 14:59:25.566561+00:00</td>\n",
       "      <td>1127066.0</td>\n",
       "      <td>353264.0</td>\n",
       "      <td>20000000.0</td>\n",
       "      <td>1</td>\n",
       "    </tr>\n",
       "    <tr>\n",
       "      <th>4</th>\n",
       "      <td>2020-03-18 14:59:20.585623+00:00</td>\n",
       "      <td>1127065.0</td>\n",
       "      <td>91069.0</td>\n",
       "      <td>20000000.0</td>\n",
       "      <td>1</td>\n",
       "    </tr>\n",
       "  </tbody>\n",
       "</table>\n",
       "</div>"
      ],
      "text/plain": [
       "                         timestamp  blockNumber   gasUsed    gasLimit  \\\n",
       "0 2020-03-18 14:59:40.641698+00:00    1127069.0  108726.0  20000000.0   \n",
       "1 2020-03-18 14:59:35.663730+00:00    1127068.0   91069.0  20000000.0   \n",
       "2 2020-03-18 14:59:30.546685+00:00    1127067.0   79363.0  20000000.0   \n",
       "3 2020-03-18 14:59:25.566561+00:00    1127066.0  353264.0  20000000.0   \n",
       "4 2020-03-18 14:59:20.585623+00:00    1127065.0   91069.0  20000000.0   \n",
       "\n",
       "   txAmount  \n",
       "0         1  \n",
       "1         1  \n",
       "2         1  \n",
       "3         1  \n",
       "4         1  "
      ]
     },
     "execution_count": 6,
     "metadata": {},
     "output_type": "execute_result"
    }
   ],
   "source": [
    "df_blocks.head()"
   ]
  },
  {
   "cell_type": "code",
   "execution_count": 7,
   "metadata": {},
   "outputs": [
    {
     "name": "stdout",
     "output_type": "stream",
     "text": [
      "last block  : 1127069 on 2020-03-18 14:59:40.641698+00:00\n",
      "first block : 1117803 on 2020-03-18 00:00:04.535886+00:00\n",
      "blocks load : 9266\n",
      "transactions: 9267\n",
      "mean gasUsed: 99794 GcWei\n"
     ]
    }
   ],
   "source": [
    "last_block, first_block = df_blocks.blockNumber.max(), df_blocks.blockNumber.min()\n",
    "print(f\"last block  : {last_block:.0f} on {df_blocks.timestamp.max()}\") \n",
    "print(f\"first block : {first_block:.0f} on {df_blocks.timestamp.min()}\")\n",
    "print(f\"blocks load : {(last_block - first_block):.0f}\")\n",
    "print(f\"transactions: {df_blocks.txAmount.sum()}\")\n",
    "print(f\"mean gasUsed: {df_blocks.gasUsed.mean():.0f} GcWei\")"
   ]
  },
  {
   "cell_type": "code",
   "execution_count": 8,
   "metadata": {},
   "outputs": [
    {
     "data": {
      "text/html": [
       "<div>\n",
       "<style scoped>\n",
       "    .dataframe tbody tr th:only-of-type {\n",
       "        vertical-align: middle;\n",
       "    }\n",
       "\n",
       "    .dataframe tbody tr th {\n",
       "        vertical-align: top;\n",
       "    }\n",
       "\n",
       "    .dataframe thead th {\n",
       "        text-align: right;\n",
       "    }\n",
       "</style>\n",
       "<table border=\"1\" class=\"dataframe\">\n",
       "  <thead>\n",
       "    <tr style=\"text-align: right;\">\n",
       "      <th></th>\n",
       "      <th>blockNumber</th>\n",
       "      <th>medianRate</th>\n",
       "      <th>currentStableBucket</th>\n",
       "      <th>currentGoldBucket</th>\n",
       "      <th>goldTokenTotalSupply</th>\n",
       "    </tr>\n",
       "  </thead>\n",
       "  <tbody>\n",
       "    <tr>\n",
       "      <th>count</th>\n",
       "      <td>5.560800e+04</td>\n",
       "      <td>18536.000000</td>\n",
       "      <td>1.853600e+04</td>\n",
       "      <td>1.853600e+04</td>\n",
       "      <td>1.853600e+04</td>\n",
       "    </tr>\n",
       "    <tr>\n",
       "      <th>mean</th>\n",
       "      <td>1.122436e+06</td>\n",
       "      <td>1.001275</td>\n",
       "      <td>3.349637e+24</td>\n",
       "      <td>1.995523e+24</td>\n",
       "      <td>2.209795e+26</td>\n",
       "    </tr>\n",
       "    <tr>\n",
       "      <th>std</th>\n",
       "      <td>2.675465e+03</td>\n",
       "      <td>0.000810</td>\n",
       "      <td>2.795917e+24</td>\n",
       "      <td>4.185405e+23</td>\n",
       "      <td>2.708855e+23</td>\n",
       "    </tr>\n",
       "    <tr>\n",
       "      <th>min</th>\n",
       "      <td>1.117803e+06</td>\n",
       "      <td>1.000000</td>\n",
       "      <td>2.166860e+24</td>\n",
       "      <td>1.000000e+24</td>\n",
       "      <td>2.205189e+26</td>\n",
       "    </tr>\n",
       "    <tr>\n",
       "      <th>25%</th>\n",
       "      <td>1.120120e+06</td>\n",
       "      <td>1.001000</td>\n",
       "      <td>2.171766e+24</td>\n",
       "      <td>2.167955e+24</td>\n",
       "      <td>2.207379e+26</td>\n",
       "    </tr>\n",
       "    <tr>\n",
       "      <th>50%</th>\n",
       "      <td>1.122436e+06</td>\n",
       "      <td>1.001000</td>\n",
       "      <td>2.176675e+24</td>\n",
       "      <td>2.170691e+24</td>\n",
       "      <td>2.209749e+26</td>\n",
       "    </tr>\n",
       "    <tr>\n",
       "      <th>75%</th>\n",
       "      <td>1.124753e+06</td>\n",
       "      <td>1.002000</td>\n",
       "      <td>2.179412e+24</td>\n",
       "      <td>2.173423e+24</td>\n",
       "      <td>2.212116e+26</td>\n",
       "    </tr>\n",
       "    <tr>\n",
       "      <th>max</th>\n",
       "      <td>1.127070e+06</td>\n",
       "      <td>1.003000</td>\n",
       "      <td>1.000000e+25</td>\n",
       "      <td>2.176153e+24</td>\n",
       "      <td>2.214483e+26</td>\n",
       "    </tr>\n",
       "  </tbody>\n",
       "</table>\n",
       "</div>"
      ],
      "text/plain": [
       "        blockNumber    medianRate  currentStableBucket  currentGoldBucket  \\\n",
       "count  5.560800e+04  18536.000000         1.853600e+04       1.853600e+04   \n",
       "mean   1.122436e+06      1.001275         3.349637e+24       1.995523e+24   \n",
       "std    2.675465e+03      0.000810         2.795917e+24       4.185405e+23   \n",
       "min    1.117803e+06      1.000000         2.166860e+24       1.000000e+24   \n",
       "25%    1.120120e+06      1.001000         2.171766e+24       2.167955e+24   \n",
       "50%    1.122436e+06      1.001000         2.176675e+24       2.170691e+24   \n",
       "75%    1.124753e+06      1.002000         2.179412e+24       2.173423e+24   \n",
       "max    1.127070e+06      1.003000         1.000000e+25       2.176153e+24   \n",
       "\n",
       "       goldTokenTotalSupply  \n",
       "count          1.853600e+04  \n",
       "mean           2.209795e+26  \n",
       "std            2.708855e+23  \n",
       "min            2.205189e+26  \n",
       "25%            2.207379e+26  \n",
       "50%            2.209749e+26  \n",
       "75%            2.212116e+26  \n",
       "max            2.214483e+26  "
      ]
     },
     "execution_count": 8,
     "metadata": {},
     "output_type": "execute_result"
    }
   ],
   "source": [
    "query_state = f\"\"\"\n",
    "SELECT\n",
    "  timestamp,\n",
    "  jsonPayload.blockNumber,\n",
    "  jsonPayload.contract,\n",
    "  jsonPayload.function,\n",
    "  jsonPayload.medianRate,\n",
    "  jsonPayload.currentStableBucket,\n",
    "  jsonPayload.currentGoldBucket,\n",
    "  jsonPayload.goldTokenTotalSupply\n",
    "FROM \n",
    "  `{table_path}` as T\n",
    "WHERE \n",
    "  jsonPayload.event='{EventTypes.RECEIVED_STATE.value}'\n",
    "ORDER BY \n",
    "  T.jsonPayload.blockNumber DESC,\n",
    "  T.timestamp DESC\n",
    "\"\"\"\n",
    "\n",
    "df_state = client.query(\n",
    "    query_state, \n",
    "    job_config=bigquery.QueryJobConfig(\n",
    "        query_parameters=[]\n",
    "    )\n",
    ").to_dataframe()\n",
    "\n",
    "df_state.describe()"
   ]
  },
  {
   "cell_type": "code",
   "execution_count": 9,
   "metadata": {},
   "outputs": [
    {
     "data": {
      "text/html": [
       "<div>\n",
       "<style scoped>\n",
       "    .dataframe tbody tr th:only-of-type {\n",
       "        vertical-align: middle;\n",
       "    }\n",
       "\n",
       "    .dataframe tbody tr th {\n",
       "        vertical-align: top;\n",
       "    }\n",
       "\n",
       "    .dataframe thead th {\n",
       "        text-align: right;\n",
       "    }\n",
       "</style>\n",
       "<table border=\"1\" class=\"dataframe\">\n",
       "  <thead>\n",
       "    <tr style=\"text-align: right;\">\n",
       "      <th></th>\n",
       "      <th>timestamp</th>\n",
       "      <th>blockNumber</th>\n",
       "      <th>contract</th>\n",
       "      <th>function</th>\n",
       "      <th>medianRate</th>\n",
       "      <th>currentStableBucket</th>\n",
       "      <th>currentGoldBucket</th>\n",
       "      <th>goldTokenTotalSupply</th>\n",
       "    </tr>\n",
       "  </thead>\n",
       "  <tbody>\n",
       "    <tr>\n",
       "      <th>0</th>\n",
       "      <td>2020-03-18 14:59:45.628138+00:00</td>\n",
       "      <td>1127070.0</td>\n",
       "      <td>Exchange</td>\n",
       "      <td>getBuyAndSellBuckets</td>\n",
       "      <td>NaN</td>\n",
       "      <td>2.180506e+24</td>\n",
       "      <td>2.176153e+24</td>\n",
       "      <td>NaN</td>\n",
       "    </tr>\n",
       "    <tr>\n",
       "      <th>1</th>\n",
       "      <td>2020-03-18 14:59:45.627610+00:00</td>\n",
       "      <td>1127070.0</td>\n",
       "      <td>GoldToken</td>\n",
       "      <td>totalSupply</td>\n",
       "      <td>NaN</td>\n",
       "      <td>NaN</td>\n",
       "      <td>NaN</td>\n",
       "      <td>2.214483e+26</td>\n",
       "    </tr>\n",
       "    <tr>\n",
       "      <th>2</th>\n",
       "      <td>2020-03-18 14:59:45.627601+00:00</td>\n",
       "      <td>1127070.0</td>\n",
       "      <td>SortedOracles</td>\n",
       "      <td>medianRate</td>\n",
       "      <td>1.002</td>\n",
       "      <td>NaN</td>\n",
       "      <td>NaN</td>\n",
       "      <td>NaN</td>\n",
       "    </tr>\n",
       "    <tr>\n",
       "      <th>3</th>\n",
       "      <td>2020-03-18 14:59:45.627538+00:00</td>\n",
       "      <td>1127070.0</td>\n",
       "      <td>SortedOracles</td>\n",
       "      <td>medianRate</td>\n",
       "      <td>1.002</td>\n",
       "      <td>NaN</td>\n",
       "      <td>NaN</td>\n",
       "      <td>NaN</td>\n",
       "    </tr>\n",
       "    <tr>\n",
       "      <th>4</th>\n",
       "      <td>2020-03-18 14:59:45.627529+00:00</td>\n",
       "      <td>1127070.0</td>\n",
       "      <td>Exchange</td>\n",
       "      <td>getBuyAndSellBuckets</td>\n",
       "      <td>NaN</td>\n",
       "      <td>2.180506e+24</td>\n",
       "      <td>2.176153e+24</td>\n",
       "      <td>NaN</td>\n",
       "    </tr>\n",
       "  </tbody>\n",
       "</table>\n",
       "</div>"
      ],
      "text/plain": [
       "                         timestamp  blockNumber       contract  \\\n",
       "0 2020-03-18 14:59:45.628138+00:00    1127070.0       Exchange   \n",
       "1 2020-03-18 14:59:45.627610+00:00    1127070.0      GoldToken   \n",
       "2 2020-03-18 14:59:45.627601+00:00    1127070.0  SortedOracles   \n",
       "3 2020-03-18 14:59:45.627538+00:00    1127070.0  SortedOracles   \n",
       "4 2020-03-18 14:59:45.627529+00:00    1127070.0       Exchange   \n",
       "\n",
       "               function  medianRate  currentStableBucket  currentGoldBucket  \\\n",
       "0  getBuyAndSellBuckets         NaN         2.180506e+24       2.176153e+24   \n",
       "1           totalSupply         NaN                  NaN                NaN   \n",
       "2            medianRate       1.002                  NaN                NaN   \n",
       "3            medianRate       1.002                  NaN                NaN   \n",
       "4  getBuyAndSellBuckets         NaN         2.180506e+24       2.176153e+24   \n",
       "\n",
       "   goldTokenTotalSupply  \n",
       "0                   NaN  \n",
       "1          2.214483e+26  \n",
       "2                   NaN  \n",
       "3                   NaN  \n",
       "4                   NaN  "
      ]
     },
     "execution_count": 9,
     "metadata": {},
     "output_type": "execute_result"
    }
   ],
   "source": [
    "df_state.head()"
   ]
  },
  {
   "cell_type": "code",
   "execution_count": 10,
   "metadata": {},
   "outputs": [
    {
     "data": {
      "text/plain": [
       "Text(0, 0.5, 'SortedOracles.medianRate')"
      ]
     },
     "execution_count": 10,
     "metadata": {},
     "output_type": "execute_result"
    },
    {
     "data": {
      "image/png": "[encoded data removed]",
      "text/plain": [
       "<Figure size 432x288 with 1 Axes>"
      ]
     },
     "metadata": {
      "needs_background": "light"
     },
     "output_type": "display_data"
    }
   ],
   "source": [
    "df_sortedOracles = df_state.set_index('timestamp')['medianRate'].dropna()\n",
    "ax = df_sortedOracles.plot()\n",
    "ax.set_xlabel(\"timestamp\")\n",
    "ax.set_ylabel(\"SortedOracles.medianRate\")"
   ]
  },
  {
   "cell_type": "code",
   "execution_count": 11,
   "metadata": {},
   "outputs": [
    {
     "data": {
      "text/plain": [
       "Text(0.5, 0, 'timestamp')"
      ]
     },
     "execution_count": 11,
     "metadata": {},
     "output_type": "execute_result"
    },
    {
     "data": {
      "image/png": "[encoded data removed]",
      "text/plain": [
       "<Figure size 432x288 with 1 Axes>"
      ]
     },
     "metadata": {
      "needs_background": "light"
     },
     "output_type": "display_data"
    }
   ],
   "source": [
    "df_stableToken = df_state.set_index('timestamp')[['currentStableBucket','currentGoldBucket']].dropna()\n",
    "ax = df_stableToken.plot()\n",
    "ax.set_xlabel(\"timestamp\")"
   ]
  },
  {
   "cell_type": "code",
   "execution_count": 12,
   "metadata": {},
   "outputs": [
    {
     "data": {
      "text/plain": [
       "Text(0.5, 0, 'timestamp')"
      ]
     },
     "execution_count": 12,
     "metadata": {},
     "output_type": "execute_result"
    },
    {
     "data": {
      "image/png": "[encoded data removed]",
      "text/plain": [
       "<Figure size 432x288 with 1 Axes>"
      ]
     },
     "metadata": {
      "needs_background": "light"
     },
     "output_type": "display_data"
    }
   ],
   "source": [
    "df_goldToken = df_state.set_index('timestamp')[['goldTokenTotalSupply']].dropna()\n",
    "ax = df_goldToken.plot()\n",
    "ax.set_xlabel(\"timestamp\")"
   ]
  }
 ],
 "metadata": {
  "kernelspec": {
   "display_name": "Python 3",
   "language": "python",
   "name": "python3"
  },
  "language_info": {
   "codemirror_mode": {
    "name": "ipython",
    "version": 3
   },
   "file_extension": ".py",
   "mimetype": "text/x-python",
   "name": "python",
   "nbconvert_exporter": "python",
   "pygments_lexer": "ipython3",
   "version": "3.7.5"
  }
 },
 "nbformat": 4,
 "nbformat_minor": 4
}
