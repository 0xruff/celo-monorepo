{
 "cells": [
  {
   "cell_type": "code",
   "execution_count": 1,
   "metadata": {},
   "outputs": [],
   "source": [
    "from datetime import date\n",
    "from enum import Enum\n",
    "\n",
    "%load_ext google.cloud.bigquery\n",
    "from google.cloud import bigquery\n"
   ]
  },
  {
   "cell_type": "code",
   "execution_count": 2,
   "metadata": {},
   "outputs": [
    {
     "name": "stdout",
     "output_type": "stream",
     "text": [
      "dataflow_metrics\n",
      "load_test_data\n",
      "segment_data\n",
      "segment_data_events\n",
      "segment_data_metrics\n",
      "transaction_data\n",
      "transaction_metrics_exporter\n"
     ]
    }
   ],
   "source": [
    "project = \"celo-testnet\"\n",
    "client = bigquery.Client(project)\n",
    "for dataset in client.list_datasets():\n",
    "    print(dataset.dataset_id)"
   ]
  },
  {
   "cell_type": "code",
   "execution_count": 3,
   "metadata": {},
   "outputs": [
    {
     "name": "stdout",
     "output_type": "stream",
     "text": [
      "celo-testnet.transaction_metrics_exporter.transaction_metrics_exporter_20200319\n"
     ]
    }
   ],
   "source": [
    "partition = date.today().strftime(\"%Y%m%d\")\n",
    "# partition = 20200316\n",
    "# partition = \"*\"\n",
    "dataset = \"transaction_metrics_exporter\"\n",
    "table = \"transaction_metrics_exporter_{0}\".format(partition)\n",
    "tme = client.get_dataset(dataset)\n",
    "table_path = \".\".join([project, dataset, table])\n",
    "print(table_path)"
   ]
  },
  {
   "cell_type": "code",
   "execution_count": 4,
   "metadata": {},
   "outputs": [],
   "source": [
    "class EventTypes(Enum):\n",
    "    RECEIVED_BLOCK=\"RECEIVED_BLOCK\"\n",
    "    RECEIVED_STATE=\"RECEIVED_STATE\"\n",
    "    RECEIVED_TRANSACTION=\"RECEIVED_TRANSACTION\"\n",
    "    RECEIVED_TRANSACTION_RECEIPT=\"RECEIVED_TRANSACTION_RECEIPT\"\n",
    "    RECEIVED_PARSED_TRANSACTION=\"RECEIVED_PARSED_TRANSACTION\"\n",
    "    RECEIVED_PARSED_LOG=\"RECEIVED_PARSED_LOG\""
   ]
  },
  {
   "cell_type": "code",
   "execution_count": 5,
   "metadata": {},
   "outputs": [
    {
     "data": {
      "text/html": [
       "<div>\n",
       "<style scoped>\n",
       "    .dataframe tbody tr th:only-of-type {\n",
       "        vertical-align: middle;\n",
       "    }\n",
       "\n",
       "    .dataframe tbody tr th {\n",
       "        vertical-align: top;\n",
       "    }\n",
       "\n",
       "    .dataframe thead th {\n",
       "        text-align: right;\n",
       "    }\n",
       "</style>\n",
       "<table border=\"1\" class=\"dataframe\">\n",
       "  <thead>\n",
       "    <tr style=\"text-align: right;\">\n",
       "      <th></th>\n",
       "      <th>blockNumber</th>\n",
       "      <th>gasUsed</th>\n",
       "      <th>gasLimit</th>\n",
       "      <th>txAmount</th>\n",
       "    </tr>\n",
       "  </thead>\n",
       "  <tbody>\n",
       "    <tr>\n",
       "      <th>count</th>\n",
       "      <td>1.071400e+04</td>\n",
       "      <td>1.071400e+04</td>\n",
       "      <td>10714.0</td>\n",
       "      <td>10714.000000</td>\n",
       "    </tr>\n",
       "    <tr>\n",
       "      <th>mean</th>\n",
       "      <td>1.138028e+06</td>\n",
       "      <td>6.755020e+04</td>\n",
       "      <td>20000000.0</td>\n",
       "      <td>1.778141</td>\n",
       "    </tr>\n",
       "    <tr>\n",
       "      <th>std</th>\n",
       "      <td>3.143106e+03</td>\n",
       "      <td>7.103836e+04</td>\n",
       "      <td>0.0</td>\n",
       "      <td>0.418650</td>\n",
       "    </tr>\n",
       "    <tr>\n",
       "      <th>min</th>\n",
       "      <td>1.132635e+06</td>\n",
       "      <td>0.000000e+00</td>\n",
       "      <td>20000000.0</td>\n",
       "      <td>1.000000</td>\n",
       "    </tr>\n",
       "    <tr>\n",
       "      <th>25%</th>\n",
       "      <td>1.135313e+06</td>\n",
       "      <td>0.000000e+00</td>\n",
       "      <td>20000000.0</td>\n",
       "      <td>2.000000</td>\n",
       "    </tr>\n",
       "    <tr>\n",
       "      <th>50%</th>\n",
       "      <td>1.137992e+06</td>\n",
       "      <td>5.872600e+04</td>\n",
       "      <td>20000000.0</td>\n",
       "      <td>2.000000</td>\n",
       "    </tr>\n",
       "    <tr>\n",
       "      <th>75%</th>\n",
       "      <td>1.140726e+06</td>\n",
       "      <td>9.979500e+04</td>\n",
       "      <td>20000000.0</td>\n",
       "      <td>2.000000</td>\n",
       "    </tr>\n",
       "    <tr>\n",
       "      <th>max</th>\n",
       "      <td>1.143550e+06</td>\n",
       "      <td>1.075162e+06</td>\n",
       "      <td>20000000.0</td>\n",
       "      <td>4.000000</td>\n",
       "    </tr>\n",
       "  </tbody>\n",
       "</table>\n",
       "</div>"
      ],
      "text/plain": [
       "        blockNumber       gasUsed    gasLimit      txAmount\n",
       "count  1.071400e+04  1.071400e+04     10714.0  10714.000000\n",
       "mean   1.138028e+06  6.755020e+04  20000000.0      1.778141\n",
       "std    3.143106e+03  7.103836e+04         0.0      0.418650\n",
       "min    1.132635e+06  0.000000e+00  20000000.0      1.000000\n",
       "25%    1.135313e+06  0.000000e+00  20000000.0      2.000000\n",
       "50%    1.137992e+06  5.872600e+04  20000000.0      2.000000\n",
       "75%    1.140726e+06  9.979500e+04  20000000.0      2.000000\n",
       "max    1.143550e+06  1.075162e+06  20000000.0      4.000000"
      ]
     },
     "execution_count": 5,
     "metadata": {},
     "output_type": "execute_result"
    }
   ],
   "source": [
    "query_blocks = f\"\"\"\n",
    "SELECT \n",
    "  MAX(T.timestamp) as timestamp,\n",
    "  T.jsonPayload.number as blockNumber,\n",
    "  MAX(T.jsonPayload.gasUsed) as gasUsed,\n",
    "  MAX(T.jsonPayload.gasLimit) as gasLimit,\n",
    "  COUNT(T.jsonPayload.transactions) as txAmount\n",
    "FROM \n",
    "  `{table_path}` as T\n",
    "WHERE\n",
    "   T.jsonPayload.event='{EventTypes.RECEIVED_BLOCK.value}'\n",
    "GROUP BY blockNumber\n",
    "ORDER BY blockNumber DESC \n",
    "\"\"\"\n",
    "\n",
    "df_blocks = client.query(\n",
    "    query_blocks, \n",
    "    job_config=bigquery.QueryJobConfig(\n",
    "        query_parameters=[]\n",
    "    )\n",
    ").to_dataframe()\n",
    "\n",
    "df_blocks.describe()"
   ]
  },
  {
   "cell_type": "code",
   "execution_count": 6,
   "metadata": {},
   "outputs": [
    {
     "data": {
      "text/html": [
       "<div>\n",
       "<style scoped>\n",
       "    .dataframe tbody tr th:only-of-type {\n",
       "        vertical-align: middle;\n",
       "    }\n",
       "\n",
       "    .dataframe tbody tr th {\n",
       "        vertical-align: top;\n",
       "    }\n",
       "\n",
       "    .dataframe thead th {\n",
       "        text-align: right;\n",
       "    }\n",
       "</style>\n",
       "<table border=\"1\" class=\"dataframe\">\n",
       "  <thead>\n",
       "    <tr style=\"text-align: right;\">\n",
       "      <th></th>\n",
       "      <th>timestamp</th>\n",
       "      <th>blockNumber</th>\n",
       "      <th>gasUsed</th>\n",
       "      <th>gasLimit</th>\n",
       "      <th>txAmount</th>\n",
       "    </tr>\n",
       "  </thead>\n",
       "  <tbody>\n",
       "    <tr>\n",
       "      <th>0</th>\n",
       "      <td>2020-03-19 17:39:15.108337+00:00</td>\n",
       "      <td>1143550.0</td>\n",
       "      <td>0.0</td>\n",
       "      <td>20000000.0</td>\n",
       "      <td>1</td>\n",
       "    </tr>\n",
       "    <tr>\n",
       "      <th>1</th>\n",
       "      <td>2020-03-19 17:38:59.476663+00:00</td>\n",
       "      <td>1143549.0</td>\n",
       "      <td>0.0</td>\n",
       "      <td>20000000.0</td>\n",
       "      <td>1</td>\n",
       "    </tr>\n",
       "    <tr>\n",
       "      <th>2</th>\n",
       "      <td>2020-03-19 17:38:54.673245+00:00</td>\n",
       "      <td>1143548.0</td>\n",
       "      <td>0.0</td>\n",
       "      <td>20000000.0</td>\n",
       "      <td>1</td>\n",
       "    </tr>\n",
       "    <tr>\n",
       "      <th>3</th>\n",
       "      <td>2020-03-19 17:38:54.154598+00:00</td>\n",
       "      <td>1143547.0</td>\n",
       "      <td>0.0</td>\n",
       "      <td>20000000.0</td>\n",
       "      <td>1</td>\n",
       "    </tr>\n",
       "    <tr>\n",
       "      <th>4</th>\n",
       "      <td>2020-03-19 17:38:38.587668+00:00</td>\n",
       "      <td>1143546.0</td>\n",
       "      <td>0.0</td>\n",
       "      <td>20000000.0</td>\n",
       "      <td>1</td>\n",
       "    </tr>\n",
       "  </tbody>\n",
       "</table>\n",
       "</div>"
      ],
      "text/plain": [
       "                         timestamp  blockNumber  gasUsed    gasLimit  txAmount\n",
       "0 2020-03-19 17:39:15.108337+00:00    1143550.0      0.0  20000000.0         1\n",
       "1 2020-03-19 17:38:59.476663+00:00    1143549.0      0.0  20000000.0         1\n",
       "2 2020-03-19 17:38:54.673245+00:00    1143548.0      0.0  20000000.0         1\n",
       "3 2020-03-19 17:38:54.154598+00:00    1143547.0      0.0  20000000.0         1\n",
       "4 2020-03-19 17:38:38.587668+00:00    1143546.0      0.0  20000000.0         1"
      ]
     },
     "execution_count": 6,
     "metadata": {},
     "output_type": "execute_result"
    }
   ],
   "source": [
    "df_blocks.head()"
   ]
  },
  {
   "cell_type": "code",
   "execution_count": 7,
   "metadata": {},
   "outputs": [
    {
     "name": "stdout",
     "output_type": "stream",
     "text": [
      "last block  : 1143550 on 2020-03-19 17:39:15.108337+00:00\n",
      "first block : 1132635 on 2020-03-19 00:00:01.518213+00:00\n",
      "blocks load : 10915\n",
      "transactions: 19051\n",
      "mean gasUsed: 67550 GcWei\n"
     ]
    }
   ],
   "source": [
    "last_block, first_block = df_blocks.blockNumber.max(), df_blocks.blockNumber.min()\n",
    "print(f\"last block  : {last_block:.0f} on {df_blocks.timestamp.max()}\") \n",
    "print(f\"first block : {first_block:.0f} on {df_blocks.timestamp.min()}\")\n",
    "print(f\"blocks load : {(last_block - first_block):.0f}\")\n",
    "print(f\"transactions: {df_blocks.txAmount.sum()}\")\n",
    "print(f\"mean gasUsed: {df_blocks.gasUsed.mean():.0f} GcWei\")"
   ]
  },
  {
   "cell_type": "code",
   "execution_count": 8,
   "metadata": {},
   "outputs": [
    {
     "data": {
      "text/html": [
       "<div>\n",
       "<style scoped>\n",
       "    .dataframe tbody tr th:only-of-type {\n",
       "        vertical-align: middle;\n",
       "    }\n",
       "\n",
       "    .dataframe tbody tr th {\n",
       "        vertical-align: top;\n",
       "    }\n",
       "\n",
       "    .dataframe thead th {\n",
       "        text-align: right;\n",
       "    }\n",
       "</style>\n",
       "<table border=\"1\" class=\"dataframe\">\n",
       "  <thead>\n",
       "    <tr style=\"text-align: right;\">\n",
       "      <th></th>\n",
       "      <th>blockNumber</th>\n",
       "      <th>rewardsamount</th>\n",
       "      <th>rewardsmultiplier</th>\n",
       "      <th>medianRate</th>\n",
       "      <th>goldTokenTotalSupply</th>\n",
       "    </tr>\n",
       "  </thead>\n",
       "  <tbody>\n",
       "    <tr>\n",
       "      <th>count</th>\n",
       "      <td>5.695800e+04</td>\n",
       "      <td>3.241000e+03</td>\n",
       "      <td>3.242000e+03</td>\n",
       "      <td>3239.000000</td>\n",
       "      <td>3.244000e+03</td>\n",
       "    </tr>\n",
       "    <tr>\n",
       "      <th>mean</th>\n",
       "      <td>1.137415e+06</td>\n",
       "      <td>6.025405e+26</td>\n",
       "      <td>1.477616e+24</td>\n",
       "      <td>1.003224</td>\n",
       "      <td>2.228610e+26</td>\n",
       "    </tr>\n",
       "    <tr>\n",
       "      <th>std</th>\n",
       "      <td>2.820344e+03</td>\n",
       "      <td>2.594658e+21</td>\n",
       "      <td>1.275457e+20</td>\n",
       "      <td>0.000417</td>\n",
       "      <td>1.064570e+23</td>\n",
       "    </tr>\n",
       "    <tr>\n",
       "      <th>min</th>\n",
       "      <td>1.132635e+06</td>\n",
       "      <td>6.025376e+26</td>\n",
       "      <td>1.477305e+24</td>\n",
       "      <td>1.003000</td>\n",
       "      <td>2.227388e+26</td>\n",
       "    </tr>\n",
       "    <tr>\n",
       "      <th>25%</th>\n",
       "      <td>1.135008e+06</td>\n",
       "      <td>6.025387e+26</td>\n",
       "      <td>1.477588e+24</td>\n",
       "      <td>1.003000</td>\n",
       "      <td>2.227933e+26</td>\n",
       "    </tr>\n",
       "    <tr>\n",
       "      <th>50%</th>\n",
       "      <td>1.137381e+06</td>\n",
       "      <td>6.025397e+26</td>\n",
       "      <td>1.477653e+24</td>\n",
       "      <td>1.003000</td>\n",
       "      <td>2.228296e+26</td>\n",
       "    </tr>\n",
       "    <tr>\n",
       "      <th>75%</th>\n",
       "      <td>1.139754e+06</td>\n",
       "      <td>6.025411e+26</td>\n",
       "      <td>1.477697e+24</td>\n",
       "      <td>1.003000</td>\n",
       "      <td>2.228841e+26</td>\n",
       "    </tr>\n",
       "    <tr>\n",
       "      <th>max</th>\n",
       "      <td>1.143550e+06</td>\n",
       "      <td>6.025466e+26</td>\n",
       "      <td>1.477763e+24</td>\n",
       "      <td>1.004000</td>\n",
       "      <td>2.231200e+26</td>\n",
       "    </tr>\n",
       "  </tbody>\n",
       "</table>\n",
       "</div>"
      ],
      "text/plain": [
       "        blockNumber  rewardsamount  rewardsmultiplier   medianRate  \\\n",
       "count  5.695800e+04   3.241000e+03       3.242000e+03  3239.000000   \n",
       "mean   1.137415e+06   6.025405e+26       1.477616e+24     1.003224   \n",
       "std    2.820344e+03   2.594658e+21       1.275457e+20     0.000417   \n",
       "min    1.132635e+06   6.025376e+26       1.477305e+24     1.003000   \n",
       "25%    1.135008e+06   6.025387e+26       1.477588e+24     1.003000   \n",
       "50%    1.137381e+06   6.025397e+26       1.477653e+24     1.003000   \n",
       "75%    1.139754e+06   6.025411e+26       1.477697e+24     1.003000   \n",
       "max    1.143550e+06   6.025466e+26       1.477763e+24     1.004000   \n",
       "\n",
       "       goldTokenTotalSupply  \n",
       "count          3.244000e+03  \n",
       "mean           2.228610e+26  \n",
       "std            1.064570e+23  \n",
       "min            2.227388e+26  \n",
       "25%            2.227933e+26  \n",
       "50%            2.228296e+26  \n",
       "75%            2.228841e+26  \n",
       "max            2.231200e+26  "
      ]
     },
     "execution_count": 8,
     "metadata": {},
     "output_type": "execute_result"
    }
   ],
   "source": [
    "query_state = f\"\"\"\n",
    "SELECT\n",
    "  timestamp,\n",
    "  jsonPayload.blockNumber,\n",
    "  jsonPayload.contract,\n",
    "  jsonPayload.function,\n",
    "  jsonPayload.values.rewardsamount,\n",
    "  jsonPayload.values.rewardsmultiplier,\n",
    "  jsonPayload.values.medianRate,\n",
    "  jsonPayload.values.currentStableBucket,\n",
    "  jsonPayload.values.currentGoldBucket,\n",
    "  jsonPayload.values.goldTokenTotalSupply\n",
    "FROM \n",
    "  `{table_path}` as T\n",
    "WHERE \n",
    "  jsonPayload.event='{EventTypes.RECEIVED_STATE.value}'\n",
    "ORDER BY \n",
    "  T.jsonPayload.blockNumber DESC,\n",
    "  T.timestamp DESC\n",
    "\"\"\"\n",
    "\n",
    "df_state = client.query(\n",
    "    query_state, \n",
    "    job_config=bigquery.QueryJobConfig(\n",
    "        query_parameters=[]\n",
    "    )\n",
    ").to_dataframe()\n",
    "\n",
    "df_state.describe()"
   ]
  },
  {
   "cell_type": "code",
   "execution_count": 9,
   "metadata": {},
   "outputs": [
    {
     "data": {
      "text/html": [
       "<div>\n",
       "<style scoped>\n",
       "    .dataframe tbody tr th:only-of-type {\n",
       "        vertical-align: middle;\n",
       "    }\n",
       "\n",
       "    .dataframe tbody tr th {\n",
       "        vertical-align: top;\n",
       "    }\n",
       "\n",
       "    .dataframe thead th {\n",
       "        text-align: right;\n",
       "    }\n",
       "</style>\n",
       "<table border=\"1\" class=\"dataframe\">\n",
       "  <thead>\n",
       "    <tr style=\"text-align: right;\">\n",
       "      <th></th>\n",
       "      <th>timestamp</th>\n",
       "      <th>blockNumber</th>\n",
       "      <th>contract</th>\n",
       "      <th>function</th>\n",
       "      <th>rewardsamount</th>\n",
       "      <th>rewardsmultiplier</th>\n",
       "      <th>medianRate</th>\n",
       "      <th>currentStableBucket</th>\n",
       "      <th>currentGoldBucket</th>\n",
       "      <th>goldTokenTotalSupply</th>\n",
       "    </tr>\n",
       "  </thead>\n",
       "  <tbody>\n",
       "    <tr>\n",
       "      <th>0</th>\n",
       "      <td>2020-03-19 17:39:15.121689+00:00</td>\n",
       "      <td>1143550.0</td>\n",
       "      <td>EpochRewards</td>\n",
       "      <td>getRewardsMultiplier</td>\n",
       "      <td>NaN</td>\n",
       "      <td>1.477305e+24</td>\n",
       "      <td>NaN</td>\n",
       "      <td>None</td>\n",
       "      <td>None</td>\n",
       "      <td>NaN</td>\n",
       "    </tr>\n",
       "    <tr>\n",
       "      <th>1</th>\n",
       "      <td>2020-03-19 17:39:15.120006+00:00</td>\n",
       "      <td>1143550.0</td>\n",
       "      <td>SortedOracles</td>\n",
       "      <td>medianRate</td>\n",
       "      <td>NaN</td>\n",
       "      <td>NaN</td>\n",
       "      <td>1.004</td>\n",
       "      <td>None</td>\n",
       "      <td>None</td>\n",
       "      <td>NaN</td>\n",
       "    </tr>\n",
       "    <tr>\n",
       "      <th>2</th>\n",
       "      <td>2020-03-19 17:39:15.114937+00:00</td>\n",
       "      <td>1143550.0</td>\n",
       "      <td>EpochRewards</td>\n",
       "      <td>getTargetGoldTotalSupply</td>\n",
       "      <td>6.025466e+26</td>\n",
       "      <td>NaN</td>\n",
       "      <td>NaN</td>\n",
       "      <td>None</td>\n",
       "      <td>None</td>\n",
       "      <td>NaN</td>\n",
       "    </tr>\n",
       "    <tr>\n",
       "      <th>3</th>\n",
       "      <td>2020-03-19 17:39:15.110012+00:00</td>\n",
       "      <td>1143550.0</td>\n",
       "      <td>GoldToken</td>\n",
       "      <td>totalSupply</td>\n",
       "      <td>NaN</td>\n",
       "      <td>NaN</td>\n",
       "      <td>NaN</td>\n",
       "      <td>None</td>\n",
       "      <td>None</td>\n",
       "      <td>2.231200e+26</td>\n",
       "    </tr>\n",
       "    <tr>\n",
       "      <th>4</th>\n",
       "      <td>2020-03-19 17:39:15.105042+00:00</td>\n",
       "      <td>1143550.0</td>\n",
       "      <td>Exchange</td>\n",
       "      <td>getBuyAndSellBuckets</td>\n",
       "      <td>NaN</td>\n",
       "      <td>NaN</td>\n",
       "      <td>NaN</td>\n",
       "      <td>2.201640934675888882648513e+24</td>\n",
       "      <td>2.192869456848494903091307e+24</td>\n",
       "      <td>NaN</td>\n",
       "    </tr>\n",
       "  </tbody>\n",
       "</table>\n",
       "</div>"
      ],
      "text/plain": [
       "                         timestamp  blockNumber       contract  \\\n",
       "0 2020-03-19 17:39:15.121689+00:00    1143550.0   EpochRewards   \n",
       "1 2020-03-19 17:39:15.120006+00:00    1143550.0  SortedOracles   \n",
       "2 2020-03-19 17:39:15.114937+00:00    1143550.0   EpochRewards   \n",
       "3 2020-03-19 17:39:15.110012+00:00    1143550.0      GoldToken   \n",
       "4 2020-03-19 17:39:15.105042+00:00    1143550.0       Exchange   \n",
       "\n",
       "                   function  rewardsamount  rewardsmultiplier  medianRate  \\\n",
       "0      getRewardsMultiplier            NaN       1.477305e+24         NaN   \n",
       "1                medianRate            NaN                NaN       1.004   \n",
       "2  getTargetGoldTotalSupply   6.025466e+26                NaN         NaN   \n",
       "3               totalSupply            NaN                NaN         NaN   \n",
       "4      getBuyAndSellBuckets            NaN                NaN         NaN   \n",
       "\n",
       "              currentStableBucket               currentGoldBucket  \\\n",
       "0                            None                            None   \n",
       "1                            None                            None   \n",
       "2                            None                            None   \n",
       "3                            None                            None   \n",
       "4  2.201640934675888882648513e+24  2.192869456848494903091307e+24   \n",
       "\n",
       "   goldTokenTotalSupply  \n",
       "0                   NaN  \n",
       "1                   NaN  \n",
       "2                   NaN  \n",
       "3          2.231200e+26  \n",
       "4                   NaN  "
      ]
     },
     "execution_count": 9,
     "metadata": {},
     "output_type": "execute_result"
    }
   ],
   "source": [
    "df_state.head()"
   ]
  },
  {
   "cell_type": "code",
   "execution_count": 10,
   "metadata": {},
   "outputs": [
    {
     "data": {
      "text/plain": [
       "Text(0, 0.5, 'SortedOracles.medianRate')"
      ]
     },
     "execution_count": 10,
     "metadata": {},
     "output_type": "execute_result"
    },
    {
     "data": {
      "image/png": "[encoded data removed]",
      "text/plain": [
       "<Figure size 432x288 with 1 Axes>"
      ]
     },
     "metadata": {
      "needs_background": "light"
     },
     "output_type": "display_data"
    }
   ],
   "source": [
    "df_sortedOracles = df_state.set_index('timestamp')['medianRate'].dropna()\n",
    "ax = df_sortedOracles.plot()\n",
    "ax.set_ylabel(\"SortedOracles.medianRate\")"
   ]
  },
  {
   "cell_type": "code",
   "execution_count": 11,
   "metadata": {},
   "outputs": [
    {
     "data": {
      "text/plain": [
       "<matplotlib.axes._subplots.AxesSubplot at 0x7f22feda28d0>"
      ]
     },
     "execution_count": 11,
     "metadata": {},
     "output_type": "execute_result"
    },
    {
     "data": {
      "image/png": "[encoded data removed]",
      "text/plain": [
       "<Figure size 432x288 with 1 Axes>"
      ]
     },
     "metadata": {
      "needs_background": "light"
     },
     "output_type": "display_data"
    }
   ],
   "source": [
    "df_stableToken = df_state.set_index('timestamp')[['currentStableBucket', 'currentGoldBucket']].dropna().astype('float')\n",
    "df_stableToken.plot()"
   ]
  },
  {
   "cell_type": "code",
   "execution_count": 12,
   "metadata": {},
   "outputs": [
    {
     "data": {
      "image/png": "[encoded data removed]",
      "text/plain": [
       "<Figure size 432x288 with 1 Axes>"
      ]
     },
     "metadata": {
      "needs_background": "light"
     },
     "output_type": "display_data"
    }
   ],
   "source": [
    "df_goldToken = df_state.set_index('timestamp')[['goldTokenTotalSupply']].dropna()\n",
    "ax = df_goldToken.plot()"
   ]
  },
  {
   "cell_type": "code",
   "execution_count": 13,
   "metadata": {},
   "outputs": [
    {
     "data": {
      "image/png": "[encoded data removed]",
      "text/plain": [
       "<Figure size 432x288 with 1 Axes>"
      ]
     },
     "metadata": {
      "needs_background": "light"
     },
     "output_type": "display_data"
    }
   ],
   "source": [
    "df_rewardsAmount = df_state.set_index('timestamp')[['rewardsamount']].dropna()\n",
    "ax = df_rewardsAmount.plot()"
   ]
  },
  {
   "cell_type": "code",
   "execution_count": 14,
   "metadata": {},
   "outputs": [
    {
     "data": {
      "image/png": "[encoded data removed]",
      "text/plain": [
       "<Figure size 432x288 with 1 Axes>"
      ]
     },
     "metadata": {
      "needs_background": "light"
     },
     "output_type": "display_data"
    }
   ],
   "source": [
    "df_rewardsMultiplier = df_state.set_index('timestamp')[['rewardsmultiplier']].dropna()\n",
    "ax = df_rewardsMultiplier.plot()"
   ]
  }
 ],
 "metadata": {
  "kernelspec": {
   "display_name": "Python 3",
   "language": "python",
   "name": "python3"
  },
  "language_info": {
   "codemirror_mode": {
    "name": "ipython",
    "version": 3
   },
   "file_extension": ".py",
   "mimetype": "text/x-python",
   "name": "python",
   "nbconvert_exporter": "python",
   "pygments_lexer": "ipython3",
   "version": "3.7.5"
  }
 },
 "nbformat": 4,
 "nbformat_minor": 4
}
